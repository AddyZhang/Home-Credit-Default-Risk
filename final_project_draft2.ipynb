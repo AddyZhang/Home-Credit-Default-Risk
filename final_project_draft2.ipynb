{
 "cells": [
  {
   "cell_type": "markdown",
   "metadata": {},
   "source": [
    "# ISE 529 FINAL PROJECT, Wednesday\n",
    "## Group Member:\n",
    "### Lu Liu, USC ID: 8341358030\n",
    "### Yuanhui Zhang, USC ID: 6289628969\n",
    "### Jiawen Zhang, USC ID: 5158163752\n",
    "### Qianling Bai, USC ID: 2886884406"
   ]
  },
  {
   "cell_type": "markdown",
   "metadata": {},
   "source": [
    "# Probelm Description & Overview of Approach\n",
    "\n",
    "#### Problem Description\n",
    "\n",
    "The goal of this project is to deploy machine learning models to detect potential default by using client information data. The client information includes number of employement days, days of birth and so on. The total number of client features is more than 100. The main problems of this project can be a large amount of missing values, imbalanced datasets and curse of dimensions after applying one hot encoding to categorical features. \n",
    "\n",
    "Note about target variable:\n",
    "( 0 for the loan was repaid on time; 1 indicating that the client had payment difficulties)\n",
    "\n",
    "##### Overall Approach\n",
    "\n",
    "1. We import data, explore features, check missing values, and observe target variables.\n",
    "\n",
    "2. After understanding a large number of missing values, we decide to use XGBoost and LightGBM for training. We might impute missing values to specific features after feature selection\n",
    "\n",
    "3. We use three feature selection methods that are univariate, wrapper, and embedded. We obtain votes for features from those selection methods and select features more than one vote.\n",
    "\n",
    "4. The above feature selection methods do not consider the features with missing values more than 15% since some machine learning techniques like logistic regression cannot computer with a lot of missing values. We use correlation methods to find features with high correlation to target and do not consider if the feature has a lot of missing values.\n",
    "\n",
    "5. We use min-max scale method for feature scaling and then train xgboost and lightGBM models with selected numerical and categorical features.\n",
    "\n",
    "6. We subsampled data to make 1s and 0s in target train to be 50:50. We use new datasets to train the model.\n",
    "\n",
    "7. We use grid search and k fold cross validation to tune hyperparameters. We use new hyperparameters to train the models.\n"
   ]
  },
  {
   "cell_type": "markdown",
   "metadata": {},
   "source": [
    "## Import Packages"
   ]
  },
  {
   "cell_type": "code",
   "execution_count": 1,
   "metadata": {},
   "outputs": [],
   "source": [
    "import pandas as pd\n",
    "import numpy as np\n",
    "import matplotlib.pyplot as plt\n",
    "import seaborn as sns\n",
    "import warnings\n",
    "warnings.filterwarnings('ignore')\n",
    "\n",
    "from sklearn.preprocessing import MinMaxScaler\n",
    "from xgboost import XGBClassifier\n",
    "from sklearn.metrics import confusion_matrix \n",
    "from sklearn.model_selection import train_test_split \n",
    "from lightgbm import LGBMClassifier\n",
    "from sklearn.utils import resample\n",
    "from sklearn.model_selection import RandomizedSearchCV\n",
    "from sklearn.model_selection import GridSearchCV\n",
    "from sklearn.model_selection import StratifiedKFold"
   ]
  },
  {
   "cell_type": "markdown",
   "metadata": {},
   "source": [
    "## Import Data"
   ]
  },
  {
   "cell_type": "code",
   "execution_count": 2,
   "metadata": {},
   "outputs": [
    {
     "data": {
      "text/html": [
       "<div>\n",
       "<style scoped>\n",
       "    .dataframe tbody tr th:only-of-type {\n",
       "        vertical-align: middle;\n",
       "    }\n",
       "\n",
       "    .dataframe tbody tr th {\n",
       "        vertical-align: top;\n",
       "    }\n",
       "\n",
       "    .dataframe thead th {\n",
       "        text-align: right;\n",
       "    }\n",
       "</style>\n",
       "<table border=\"1\" class=\"dataframe\">\n",
       "  <thead>\n",
       "    <tr style=\"text-align: right;\">\n",
       "      <th></th>\n",
       "      <th>TARGET</th>\n",
       "      <th>NAME_CONTRACT_TYPE</th>\n",
       "      <th>CODE_GENDER</th>\n",
       "      <th>FLAG_OWN_CAR</th>\n",
       "      <th>FLAG_OWN_REALTY</th>\n",
       "      <th>CNT_CHILDREN</th>\n",
       "      <th>AMT_INCOME_TOTAL</th>\n",
       "      <th>AMT_CREDIT</th>\n",
       "      <th>AMT_ANNUITY</th>\n",
       "      <th>AMT_GOODS_PRICE</th>\n",
       "      <th>...</th>\n",
       "      <th>FLAG_DOCUMENT_18</th>\n",
       "      <th>FLAG_DOCUMENT_19</th>\n",
       "      <th>FLAG_DOCUMENT_20</th>\n",
       "      <th>FLAG_DOCUMENT_21</th>\n",
       "      <th>AMT_REQ_CREDIT_BUREAU_HOUR</th>\n",
       "      <th>AMT_REQ_CREDIT_BUREAU_DAY</th>\n",
       "      <th>AMT_REQ_CREDIT_BUREAU_WEEK</th>\n",
       "      <th>AMT_REQ_CREDIT_BUREAU_MON</th>\n",
       "      <th>AMT_REQ_CREDIT_BUREAU_QRT</th>\n",
       "      <th>AMT_REQ_CREDIT_BUREAU_YEAR</th>\n",
       "    </tr>\n",
       "    <tr>\n",
       "      <th>SK_ID_CURR</th>\n",
       "      <th></th>\n",
       "      <th></th>\n",
       "      <th></th>\n",
       "      <th></th>\n",
       "      <th></th>\n",
       "      <th></th>\n",
       "      <th></th>\n",
       "      <th></th>\n",
       "      <th></th>\n",
       "      <th></th>\n",
       "      <th></th>\n",
       "      <th></th>\n",
       "      <th></th>\n",
       "      <th></th>\n",
       "      <th></th>\n",
       "      <th></th>\n",
       "      <th></th>\n",
       "      <th></th>\n",
       "      <th></th>\n",
       "      <th></th>\n",
       "      <th></th>\n",
       "    </tr>\n",
       "  </thead>\n",
       "  <tbody>\n",
       "    <tr>\n",
       "      <th>100002</th>\n",
       "      <td>1</td>\n",
       "      <td>Cash loans</td>\n",
       "      <td>M</td>\n",
       "      <td>N</td>\n",
       "      <td>Y</td>\n",
       "      <td>0</td>\n",
       "      <td>202500.0</td>\n",
       "      <td>406597.5</td>\n",
       "      <td>24700.5</td>\n",
       "      <td>351000.0</td>\n",
       "      <td>...</td>\n",
       "      <td>0</td>\n",
       "      <td>0</td>\n",
       "      <td>0</td>\n",
       "      <td>0</td>\n",
       "      <td>0.0</td>\n",
       "      <td>0.0</td>\n",
       "      <td>0.0</td>\n",
       "      <td>0.0</td>\n",
       "      <td>0.0</td>\n",
       "      <td>1.0</td>\n",
       "    </tr>\n",
       "    <tr>\n",
       "      <th>100003</th>\n",
       "      <td>0</td>\n",
       "      <td>Cash loans</td>\n",
       "      <td>F</td>\n",
       "      <td>N</td>\n",
       "      <td>N</td>\n",
       "      <td>0</td>\n",
       "      <td>270000.0</td>\n",
       "      <td>1293502.5</td>\n",
       "      <td>35698.5</td>\n",
       "      <td>1129500.0</td>\n",
       "      <td>...</td>\n",
       "      <td>0</td>\n",
       "      <td>0</td>\n",
       "      <td>0</td>\n",
       "      <td>0</td>\n",
       "      <td>0.0</td>\n",
       "      <td>0.0</td>\n",
       "      <td>0.0</td>\n",
       "      <td>0.0</td>\n",
       "      <td>0.0</td>\n",
       "      <td>0.0</td>\n",
       "    </tr>\n",
       "    <tr>\n",
       "      <th>100004</th>\n",
       "      <td>0</td>\n",
       "      <td>Revolving loans</td>\n",
       "      <td>M</td>\n",
       "      <td>Y</td>\n",
       "      <td>Y</td>\n",
       "      <td>0</td>\n",
       "      <td>67500.0</td>\n",
       "      <td>135000.0</td>\n",
       "      <td>6750.0</td>\n",
       "      <td>135000.0</td>\n",
       "      <td>...</td>\n",
       "      <td>0</td>\n",
       "      <td>0</td>\n",
       "      <td>0</td>\n",
       "      <td>0</td>\n",
       "      <td>0.0</td>\n",
       "      <td>0.0</td>\n",
       "      <td>0.0</td>\n",
       "      <td>0.0</td>\n",
       "      <td>0.0</td>\n",
       "      <td>0.0</td>\n",
       "    </tr>\n",
       "    <tr>\n",
       "      <th>100006</th>\n",
       "      <td>0</td>\n",
       "      <td>Cash loans</td>\n",
       "      <td>F</td>\n",
       "      <td>N</td>\n",
       "      <td>Y</td>\n",
       "      <td>0</td>\n",
       "      <td>135000.0</td>\n",
       "      <td>312682.5</td>\n",
       "      <td>29686.5</td>\n",
       "      <td>297000.0</td>\n",
       "      <td>...</td>\n",
       "      <td>0</td>\n",
       "      <td>0</td>\n",
       "      <td>0</td>\n",
       "      <td>0</td>\n",
       "      <td>NaN</td>\n",
       "      <td>NaN</td>\n",
       "      <td>NaN</td>\n",
       "      <td>NaN</td>\n",
       "      <td>NaN</td>\n",
       "      <td>NaN</td>\n",
       "    </tr>\n",
       "    <tr>\n",
       "      <th>100007</th>\n",
       "      <td>0</td>\n",
       "      <td>Cash loans</td>\n",
       "      <td>M</td>\n",
       "      <td>N</td>\n",
       "      <td>Y</td>\n",
       "      <td>0</td>\n",
       "      <td>121500.0</td>\n",
       "      <td>513000.0</td>\n",
       "      <td>21865.5</td>\n",
       "      <td>513000.0</td>\n",
       "      <td>...</td>\n",
       "      <td>0</td>\n",
       "      <td>0</td>\n",
       "      <td>0</td>\n",
       "      <td>0</td>\n",
       "      <td>0.0</td>\n",
       "      <td>0.0</td>\n",
       "      <td>0.0</td>\n",
       "      <td>0.0</td>\n",
       "      <td>0.0</td>\n",
       "      <td>0.0</td>\n",
       "    </tr>\n",
       "  </tbody>\n",
       "</table>\n",
       "<p>5 rows × 121 columns</p>\n",
       "</div>"
      ],
      "text/plain": [
       "            TARGET NAME_CONTRACT_TYPE CODE_GENDER FLAG_OWN_CAR  \\\n",
       "SK_ID_CURR                                                       \n",
       "100002           1         Cash loans           M            N   \n",
       "100003           0         Cash loans           F            N   \n",
       "100004           0    Revolving loans           M            Y   \n",
       "100006           0         Cash loans           F            N   \n",
       "100007           0         Cash loans           M            N   \n",
       "\n",
       "           FLAG_OWN_REALTY  CNT_CHILDREN  AMT_INCOME_TOTAL  AMT_CREDIT  \\\n",
       "SK_ID_CURR                                                               \n",
       "100002                   Y             0          202500.0    406597.5   \n",
       "100003                   N             0          270000.0   1293502.5   \n",
       "100004                   Y             0           67500.0    135000.0   \n",
       "100006                   Y             0          135000.0    312682.5   \n",
       "100007                   Y             0          121500.0    513000.0   \n",
       "\n",
       "            AMT_ANNUITY  AMT_GOODS_PRICE  ... FLAG_DOCUMENT_18  \\\n",
       "SK_ID_CURR                                ...                    \n",
       "100002          24700.5         351000.0  ...                0   \n",
       "100003          35698.5        1129500.0  ...                0   \n",
       "100004           6750.0         135000.0  ...                0   \n",
       "100006          29686.5         297000.0  ...                0   \n",
       "100007          21865.5         513000.0  ...                0   \n",
       "\n",
       "           FLAG_DOCUMENT_19 FLAG_DOCUMENT_20 FLAG_DOCUMENT_21  \\\n",
       "SK_ID_CURR                                                      \n",
       "100002                    0                0                0   \n",
       "100003                    0                0                0   \n",
       "100004                    0                0                0   \n",
       "100006                    0                0                0   \n",
       "100007                    0                0                0   \n",
       "\n",
       "           AMT_REQ_CREDIT_BUREAU_HOUR  AMT_REQ_CREDIT_BUREAU_DAY  \\\n",
       "SK_ID_CURR                                                         \n",
       "100002                            0.0                        0.0   \n",
       "100003                            0.0                        0.0   \n",
       "100004                            0.0                        0.0   \n",
       "100006                            NaN                        NaN   \n",
       "100007                            0.0                        0.0   \n",
       "\n",
       "            AMT_REQ_CREDIT_BUREAU_WEEK  AMT_REQ_CREDIT_BUREAU_MON  \\\n",
       "SK_ID_CURR                                                          \n",
       "100002                             0.0                        0.0   \n",
       "100003                             0.0                        0.0   \n",
       "100004                             0.0                        0.0   \n",
       "100006                             NaN                        NaN   \n",
       "100007                             0.0                        0.0   \n",
       "\n",
       "            AMT_REQ_CREDIT_BUREAU_QRT  AMT_REQ_CREDIT_BUREAU_YEAR  \n",
       "SK_ID_CURR                                                         \n",
       "100002                            0.0                         1.0  \n",
       "100003                            0.0                         0.0  \n",
       "100004                            0.0                         0.0  \n",
       "100006                            NaN                         NaN  \n",
       "100007                            0.0                         0.0  \n",
       "\n",
       "[5 rows x 121 columns]"
      ]
     },
     "execution_count": 2,
     "metadata": {},
     "output_type": "execute_result"
    }
   ],
   "source": [
    "df = pd.read_csv('application_train.csv',index_col = 0)\n",
    "df.head()"
   ]
  },
  {
   "cell_type": "code",
   "execution_count": 3,
   "metadata": {
    "scrolled": true
   },
   "outputs": [
    {
     "data": {
      "text/plain": [
       "(307511, 121)"
      ]
     },
     "execution_count": 3,
     "metadata": {},
     "output_type": "execute_result"
    }
   ],
   "source": [
    "df.shape"
   ]
  },
  {
   "cell_type": "code",
   "execution_count": 4,
   "metadata": {},
   "outputs": [
    {
     "name": "stdout",
     "output_type": "stream",
     "text": [
      "<class 'pandas.core.frame.DataFrame'>\n",
      "Int64Index: 307511 entries, 100002 to 456255\n",
      "Columns: 121 entries, TARGET to AMT_REQ_CREDIT_BUREAU_YEAR\n",
      "dtypes: float64(65), int64(40), object(16)\n",
      "memory usage: 286.2+ MB\n"
     ]
    }
   ],
   "source": [
    "df.info()"
   ]
  },
  {
   "cell_type": "markdown",
   "metadata": {},
   "source": [
    "# Data Screening\n",
    "### Check Missing Values"
   ]
  },
  {
   "cell_type": "code",
   "execution_count": 5,
   "metadata": {},
   "outputs": [],
   "source": [
    "def missing_table(df):\n",
    "    \"\"\"Display the number of missing values and percentage in each features\"\"\"\n",
    "    missing_series = df.isnull().sum()\n",
    "    missing_percentage = df.isnull().sum()/len(df)*100\n",
    "    missing_df = pd.concat([missing_series,missing_percentage],axis=1)\n",
    "    missing_df.columns = ['missing_values','missing_percentage(%)']\n",
    "    missing_df.sort_values(by = 'missing_percentage(%)', ascending=False, inplace = True)\n",
    "    return missing_df"
   ]
  },
  {
   "cell_type": "code",
   "execution_count": 6,
   "metadata": {},
   "outputs": [
    {
     "data": {
      "text/html": [
       "<div>\n",
       "<style scoped>\n",
       "    .dataframe tbody tr th:only-of-type {\n",
       "        vertical-align: middle;\n",
       "    }\n",
       "\n",
       "    .dataframe tbody tr th {\n",
       "        vertical-align: top;\n",
       "    }\n",
       "\n",
       "    .dataframe thead th {\n",
       "        text-align: right;\n",
       "    }\n",
       "</style>\n",
       "<table border=\"1\" class=\"dataframe\">\n",
       "  <thead>\n",
       "    <tr style=\"text-align: right;\">\n",
       "      <th></th>\n",
       "      <th>missing_values</th>\n",
       "      <th>missing_percentage(%)</th>\n",
       "    </tr>\n",
       "  </thead>\n",
       "  <tbody>\n",
       "    <tr>\n",
       "      <th>COMMONAREA_AVG</th>\n",
       "      <td>214865</td>\n",
       "      <td>69.872297</td>\n",
       "    </tr>\n",
       "    <tr>\n",
       "      <th>COMMONAREA_MODE</th>\n",
       "      <td>214865</td>\n",
       "      <td>69.872297</td>\n",
       "    </tr>\n",
       "    <tr>\n",
       "      <th>COMMONAREA_MEDI</th>\n",
       "      <td>214865</td>\n",
       "      <td>69.872297</td>\n",
       "    </tr>\n",
       "    <tr>\n",
       "      <th>NONLIVINGAPARTMENTS_AVG</th>\n",
       "      <td>213514</td>\n",
       "      <td>69.432963</td>\n",
       "    </tr>\n",
       "    <tr>\n",
       "      <th>NONLIVINGAPARTMENTS_MODE</th>\n",
       "      <td>213514</td>\n",
       "      <td>69.432963</td>\n",
       "    </tr>\n",
       "    <tr>\n",
       "      <th>NONLIVINGAPARTMENTS_MEDI</th>\n",
       "      <td>213514</td>\n",
       "      <td>69.432963</td>\n",
       "    </tr>\n",
       "    <tr>\n",
       "      <th>FONDKAPREMONT_MODE</th>\n",
       "      <td>210295</td>\n",
       "      <td>68.386172</td>\n",
       "    </tr>\n",
       "    <tr>\n",
       "      <th>LIVINGAPARTMENTS_MEDI</th>\n",
       "      <td>210199</td>\n",
       "      <td>68.354953</td>\n",
       "    </tr>\n",
       "    <tr>\n",
       "      <th>LIVINGAPARTMENTS_AVG</th>\n",
       "      <td>210199</td>\n",
       "      <td>68.354953</td>\n",
       "    </tr>\n",
       "    <tr>\n",
       "      <th>LIVINGAPARTMENTS_MODE</th>\n",
       "      <td>210199</td>\n",
       "      <td>68.354953</td>\n",
       "    </tr>\n",
       "    <tr>\n",
       "      <th>FLOORSMIN_AVG</th>\n",
       "      <td>208642</td>\n",
       "      <td>67.848630</td>\n",
       "    </tr>\n",
       "    <tr>\n",
       "      <th>FLOORSMIN_MODE</th>\n",
       "      <td>208642</td>\n",
       "      <td>67.848630</td>\n",
       "    </tr>\n",
       "    <tr>\n",
       "      <th>FLOORSMIN_MEDI</th>\n",
       "      <td>208642</td>\n",
       "      <td>67.848630</td>\n",
       "    </tr>\n",
       "    <tr>\n",
       "      <th>YEARS_BUILD_AVG</th>\n",
       "      <td>204488</td>\n",
       "      <td>66.497784</td>\n",
       "    </tr>\n",
       "    <tr>\n",
       "      <th>YEARS_BUILD_MEDI</th>\n",
       "      <td>204488</td>\n",
       "      <td>66.497784</td>\n",
       "    </tr>\n",
       "    <tr>\n",
       "      <th>YEARS_BUILD_MODE</th>\n",
       "      <td>204488</td>\n",
       "      <td>66.497784</td>\n",
       "    </tr>\n",
       "    <tr>\n",
       "      <th>OWN_CAR_AGE</th>\n",
       "      <td>202929</td>\n",
       "      <td>65.990810</td>\n",
       "    </tr>\n",
       "    <tr>\n",
       "      <th>LANDAREA_MEDI</th>\n",
       "      <td>182590</td>\n",
       "      <td>59.376738</td>\n",
       "    </tr>\n",
       "    <tr>\n",
       "      <th>LANDAREA_AVG</th>\n",
       "      <td>182590</td>\n",
       "      <td>59.376738</td>\n",
       "    </tr>\n",
       "    <tr>\n",
       "      <th>LANDAREA_MODE</th>\n",
       "      <td>182590</td>\n",
       "      <td>59.376738</td>\n",
       "    </tr>\n",
       "  </tbody>\n",
       "</table>\n",
       "</div>"
      ],
      "text/plain": [
       "                          missing_values  missing_percentage(%)\n",
       "COMMONAREA_AVG                    214865              69.872297\n",
       "COMMONAREA_MODE                   214865              69.872297\n",
       "COMMONAREA_MEDI                   214865              69.872297\n",
       "NONLIVINGAPARTMENTS_AVG           213514              69.432963\n",
       "NONLIVINGAPARTMENTS_MODE          213514              69.432963\n",
       "NONLIVINGAPARTMENTS_MEDI          213514              69.432963\n",
       "FONDKAPREMONT_MODE                210295              68.386172\n",
       "LIVINGAPARTMENTS_MEDI             210199              68.354953\n",
       "LIVINGAPARTMENTS_AVG              210199              68.354953\n",
       "LIVINGAPARTMENTS_MODE             210199              68.354953\n",
       "FLOORSMIN_AVG                     208642              67.848630\n",
       "FLOORSMIN_MODE                    208642              67.848630\n",
       "FLOORSMIN_MEDI                    208642              67.848630\n",
       "YEARS_BUILD_AVG                   204488              66.497784\n",
       "YEARS_BUILD_MEDI                  204488              66.497784\n",
       "YEARS_BUILD_MODE                  204488              66.497784\n",
       "OWN_CAR_AGE                       202929              65.990810\n",
       "LANDAREA_MEDI                     182590              59.376738\n",
       "LANDAREA_AVG                      182590              59.376738\n",
       "LANDAREA_MODE                     182590              59.376738"
      ]
     },
     "execution_count": 6,
     "metadata": {},
     "output_type": "execute_result"
    }
   ],
   "source": [
    "missing_df = missing_table(df)\n",
    "missing_df.head(20)"
   ]
  },
  {
   "cell_type": "markdown",
   "metadata": {},
   "source": [
    "## Check if our target is imbalanced or not. "
   ]
  },
  {
   "cell_type": "code",
   "execution_count": 7,
   "metadata": {},
   "outputs": [
    {
     "data": {
      "text/plain": [
       "Text(0, 0.5, 'Frequency')"
      ]
     },
     "execution_count": 7,
     "metadata": {},
     "output_type": "execute_result"
    },
    {
     "data": {
      "image/png": "[encoded data removed]",
      "text/plain": [
       "<Figure size 432x288 with 1 Axes>"
      ]
     },
     "metadata": {
      "needs_background": "light"
     },
     "output_type": "display_data"
    }
   ],
   "source": [
    "df['TARGET'].plot.hist(title = 'Default Histogram' )\n",
    "plt.xlabel('Target')\n",
    "plt.ylabel('Frequency')"
   ]
  },
  {
   "cell_type": "markdown",
   "metadata": {},
   "source": [
    "As we can see the above graph, we have significantly more zeros than ones. \n",
    "\n",
    "\n",
    "Therefore we might use balanced accuracy to measure unbalanced datasets or subsampling data to balance datasets."
   ]
  },
  {
   "cell_type": "markdown",
   "metadata": {},
   "source": [
    "# Treatment of NA values, encoding of categorical features."
   ]
  },
  {
   "cell_type": "markdown",
   "metadata": {},
   "source": [
    "## Treatment of NA values"
   ]
  },
  {
   "cell_type": "markdown",
   "metadata": {},
   "source": [
    "As we can see, there are a lot of missing values and features. There are some actions we are going to take for handling missing values and reducing features. \n",
    "\n",
    "1. We might use XGBoost and LightGBM to train the datasets because XGBoost and lightGBM treat missing values in the same way as XGBoost treats zeros in sparse matrices; it ignores the zero values and allocates them to whichever sides that reduces the loss most. \n",
    "\n",
    "\n",
    "2. We will impute the missing values with median values.\n",
    "\n",
    "3. We will use univariate, wrapper, and embedded methods for feature selection."
   ]
  },
  {
   "cell_type": "markdown",
   "metadata": {},
   "source": [
    "## One Hot Encoding and NA rows dropped\n",
    "To use feature selection methods, we need to prepare the dataset with less missing values, otherwise the machine learning methods such as logistic regression cannot process properly."
   ]
  },
  {
   "cell_type": "markdown",
   "metadata": {},
   "source": [
    "Since we have a lot of missing values of features, we need to extract features with missing values less than 15%.\n",
    "We find out if our missing percentage threshold is 15%, we will eliminate 40 features but we keep a large portion of datasets."
   ]
  },
  {
   "cell_type": "code",
   "execution_count": 8,
   "metadata": {},
   "outputs": [],
   "source": [
    "feature_idx = missing_df[missing_df['missing_percentage(%)']<=15].index\n",
    "feature_train = df[feature_idx]\n",
    "feature_train.dropna(inplace = True)\n",
    "\n",
    "target_train = feature_train['TARGET']\n",
    "\n",
    "feature_train = feature_train.drop('TARGET',axis=1)\n",
    "feature_train = pd.get_dummies(feature_train)"
   ]
  },
  {
   "cell_type": "markdown",
   "metadata": {},
   "source": [
    "Handle Categorical features (transform whole dataframe)"
   ]
  },
  {
   "cell_type": "code",
   "execution_count": 9,
   "metadata": {},
   "outputs": [
    {
     "data": {
      "text/plain": [
       "((307511, 245), (263423, 163))"
      ]
     },
     "execution_count": 9,
     "metadata": {},
     "output_type": "execute_result"
    }
   ],
   "source": [
    "df_temp = pd.get_dummies(df)\n",
    "df_temp.shape, feature_train.shape"
   ]
  },
  {
   "cell_type": "markdown",
   "metadata": {},
   "source": [
    "# Dimension Reduction\n",
    "Since we have more than 100 features, we need to reduce dimensions and select or extact key features from training datasets."
   ]
  },
  {
   "cell_type": "markdown",
   "metadata": {},
   "source": [
    "Method 1: ANOVA F-value from Univariate selection"
   ]
  },
  {
   "cell_type": "code",
   "execution_count": 10,
   "metadata": {},
   "outputs": [
    {
     "data": {
      "text/plain": [
       "['EXT_SOURCE_2',\n",
       " 'DAYS_LAST_PHONE_CHANGE',\n",
       " 'REG_CITY_NOT_WORK_CITY',\n",
       " 'REGION_RATING_CLIENT_W_CITY',\n",
       " 'REGION_RATING_CLIENT',\n",
       " 'DAYS_BIRTH',\n",
       " 'CODE_GENDER_F',\n",
       " 'CODE_GENDER_M',\n",
       " 'NAME_INCOME_TYPE_Working',\n",
       " 'NAME_EDUCATION_TYPE_Higher education']"
      ]
     },
     "execution_count": 10,
     "metadata": {},
     "output_type": "execute_result"
    }
   ],
   "source": [
    "from sklearn.feature_selection import SelectKBest\n",
    "from sklearn.feature_selection import f_classif\n",
    "from sklearn.feature_selection import mutual_info_classif\n",
    "f_class = SelectKBest(f_classif,k=10)\n",
    "f_class.fit(feature_train,np.ravel(target_train))\n",
    "f_support = f_class.get_support()\n",
    "f_feature = feature_train.loc[:,f_support].columns.tolist()\n",
    "f_feature"
   ]
  },
  {
   "cell_type": "markdown",
   "metadata": {},
   "source": [
    "Method 2. Recursive Feature Eliminatin from Wrapper method "
   ]
  },
  {
   "cell_type": "code",
   "execution_count": 11,
   "metadata": {},
   "outputs": [
    {
     "name": "stdout",
     "output_type": "stream",
     "text": [
      "Fitting estimator with 163 features.\n",
      "Fitting estimator with 153 features.\n",
      "Fitting estimator with 143 features.\n",
      "Fitting estimator with 133 features.\n",
      "Fitting estimator with 123 features.\n",
      "Fitting estimator with 113 features.\n",
      "Fitting estimator with 103 features.\n",
      "Fitting estimator with 93 features.\n",
      "Fitting estimator with 83 features.\n",
      "Fitting estimator with 73 features.\n",
      "Fitting estimator with 63 features.\n",
      "Fitting estimator with 53 features.\n",
      "Fitting estimator with 43 features.\n",
      "Fitting estimator with 33 features.\n",
      "Fitting estimator with 23 features.\n",
      "Fitting estimator with 13 features.\n"
     ]
    },
    {
     "data": {
      "text/plain": [
       "['AMT_GOODS_PRICE',\n",
       " 'AMT_ANNUITY',\n",
       " 'DAYS_LAST_PHONE_CHANGE',\n",
       " 'AMT_INCOME_TOTAL',\n",
       " 'AMT_CREDIT',\n",
       " 'HOUR_APPR_PROCESS_START',\n",
       " 'DAYS_ID_PUBLISH',\n",
       " 'DAYS_REGISTRATION',\n",
       " 'DAYS_EMPLOYED',\n",
       " 'DAYS_BIRTH']"
      ]
     },
     "execution_count": 11,
     "metadata": {},
     "output_type": "execute_result"
    }
   ],
   "source": [
    "from sklearn.feature_selection import RFE\n",
    "from sklearn.linear_model import LogisticRegression\n",
    "rfe_selector = RFE(estimator=LogisticRegression(solver = 'lbfgs',max_iter = 4000),\n",
    "                   n_features_to_select = 10,step = 10,verbose = 5)\n",
    "rfe_selector.fit(feature_train,target_train)\n",
    "rfe_support = rfe_selector.get_support()\n",
    "rfe_feature = feature_train.loc[:,rfe_support].columns.tolist()\n",
    "rfe_feature"
   ]
  },
  {
   "cell_type": "markdown",
   "metadata": {},
   "source": [
    "Method 3. Lassor, Random Forest, and XGBoost from embedded method"
   ]
  },
  {
   "cell_type": "code",
   "execution_count": 12,
   "metadata": {},
   "outputs": [
    {
     "data": {
      "text/plain": [
       "['EXT_SOURCE_2',\n",
       " 'FLAG_DOCUMENT_13',\n",
       " 'FLAG_DOCUMENT_14',\n",
       " 'FLAG_DOCUMENT_15',\n",
       " 'FLAG_DOCUMENT_17',\n",
       " 'REGION_POPULATION_RELATIVE',\n",
       " 'ORGANIZATION_TYPE_XNA',\n",
       " 'NAME_INCOME_TYPE_Pensioner',\n",
       " 'NAME_INCOME_TYPE_Unemployed',\n",
       " 'NAME_EDUCATION_TYPE_Academic degree']"
      ]
     },
     "execution_count": 12,
     "metadata": {},
     "output_type": "execute_result"
    }
   ],
   "source": [
    "from sklearn.feature_selection import SelectFromModel\n",
    "embbed_lr = SelectFromModel(LogisticRegression(solver = 'liblinear',penalty = 'l1'),max_features = 10)\n",
    "embbed_lr.fit(feature_train,target_train)\n",
    "emb_lr = embbed_lr.get_support()\n",
    "emb_fea = feature_train.loc[:,emb_lr].columns.tolist()\n",
    "emb_fea"
   ]
  },
  {
   "cell_type": "code",
   "execution_count": 13,
   "metadata": {},
   "outputs": [
    {
     "data": {
      "text/plain": [
       "['EXT_SOURCE_2',\n",
       " 'AMT_ANNUITY',\n",
       " 'DAYS_LAST_PHONE_CHANGE',\n",
       " 'AMT_INCOME_TOTAL',\n",
       " 'AMT_CREDIT',\n",
       " 'DAYS_ID_PUBLISH',\n",
       " 'DAYS_REGISTRATION',\n",
       " 'DAYS_EMPLOYED',\n",
       " 'DAYS_BIRTH',\n",
       " 'REGION_POPULATION_RELATIVE']"
      ]
     },
     "execution_count": 13,
     "metadata": {},
     "output_type": "execute_result"
    }
   ],
   "source": [
    "from sklearn.ensemble import RandomForestClassifier\n",
    "emb_rf_sel = SelectFromModel(RandomForestClassifier(n_estimators = 100),max_features = 10)\n",
    "emb_rf_sel.fit(feature_train,target_train)\n",
    "emb_rf_sup = emb_rf_sel.get_support()\n",
    "emb_rf_fea = feature_train.loc[:,emb_rf_sup].columns.tolist()\n",
    "emb_rf_fea"
   ]
  },
  {
   "cell_type": "code",
   "execution_count": 14,
   "metadata": {},
   "outputs": [
    {
     "data": {
      "text/plain": [
       "['EXT_SOURCE_2',\n",
       " 'FLAG_DOCUMENT_3',\n",
       " 'REG_CITY_NOT_WORK_CITY',\n",
       " 'FLAG_EMP_PHONE',\n",
       " 'CODE_GENDER_F',\n",
       " 'CODE_GENDER_M',\n",
       " 'NAME_INCOME_TYPE_Pensioner',\n",
       " 'NAME_INCOME_TYPE_Working',\n",
       " 'NAME_EDUCATION_TYPE_Higher education',\n",
       " 'NAME_EDUCATION_TYPE_Secondary / secondary special']"
      ]
     },
     "execution_count": 14,
     "metadata": {},
     "output_type": "execute_result"
    }
   ],
   "source": [
    "from xgboost import XGBClassifier\n",
    "xgbc = XGBClassifier(n_estimators = 500,learning_rate = 0.05,\n",
    "                     num_leaves = 32,colsample_bytree = 0.2,\n",
    "                     reg_alpha = 3,reg_lambda = 1,\n",
    "                     min_split_gain = 0.01,min_child_weight = 40)\n",
    "emb_xgb_sel = SelectFromModel(xgbc,max_features = 10)\n",
    "emb_xgb_sel.fit(feature_train,target_train)\n",
    "emb_xgb_sup = emb_xgb_sel.get_support()\n",
    "emb_xgb_fea = feature_train.loc[:,emb_xgb_sup].columns.tolist()\n",
    "emb_xgb_fea"
   ]
  },
  {
   "cell_type": "markdown",
   "metadata": {},
   "source": [
    "### Display vote dataframe from above selection methods"
   ]
  },
  {
   "cell_type": "code",
   "execution_count": 15,
   "metadata": {},
   "outputs": [],
   "source": [
    "vote_df = pd.DataFrame({\"Feature\":feature_train.columns,\n",
    "                        \"Random Forest\":emb_rf_sup,\n",
    "                        \"Lasso\":emb_lr,\n",
    "                        \"RFE\":rfe_support,\n",
    "                        \"XGBoost\":emb_xgb_sup,\n",
    "                        \"f_classif\":f_support})"
   ]
  },
  {
   "cell_type": "code",
   "execution_count": 16,
   "metadata": {},
   "outputs": [
    {
     "data": {
      "text/html": [
       "<div>\n",
       "<style scoped>\n",
       "    .dataframe tbody tr th:only-of-type {\n",
       "        vertical-align: middle;\n",
       "    }\n",
       "\n",
       "    .dataframe tbody tr th {\n",
       "        vertical-align: top;\n",
       "    }\n",
       "\n",
       "    .dataframe thead th {\n",
       "        text-align: right;\n",
       "    }\n",
       "</style>\n",
       "<table border=\"1\" class=\"dataframe\">\n",
       "  <thead>\n",
       "    <tr style=\"text-align: right;\">\n",
       "      <th></th>\n",
       "      <th>Feature</th>\n",
       "      <th>Random Forest</th>\n",
       "      <th>Lasso</th>\n",
       "      <th>RFE</th>\n",
       "      <th>XGBoost</th>\n",
       "      <th>f_classif</th>\n",
       "      <th>total</th>\n",
       "    </tr>\n",
       "  </thead>\n",
       "  <tbody>\n",
       "    <tr>\n",
       "      <th>10</th>\n",
       "      <td>EXT_SOURCE_2</td>\n",
       "      <td>True</td>\n",
       "      <td>True</td>\n",
       "      <td>False</td>\n",
       "      <td>True</td>\n",
       "      <td>True</td>\n",
       "      <td>4</td>\n",
       "    </tr>\n",
       "    <tr>\n",
       "      <th>14</th>\n",
       "      <td>DAYS_LAST_PHONE_CHANGE</td>\n",
       "      <td>True</td>\n",
       "      <td>False</td>\n",
       "      <td>True</td>\n",
       "      <td>False</td>\n",
       "      <td>True</td>\n",
       "      <td>3</td>\n",
       "    </tr>\n",
       "    <tr>\n",
       "      <th>56</th>\n",
       "      <td>DAYS_BIRTH</td>\n",
       "      <td>True</td>\n",
       "      <td>False</td>\n",
       "      <td>True</td>\n",
       "      <td>False</td>\n",
       "      <td>True</td>\n",
       "      <td>3</td>\n",
       "    </tr>\n",
       "    <tr>\n",
       "      <th>39</th>\n",
       "      <td>REG_CITY_NOT_WORK_CITY</td>\n",
       "      <td>False</td>\n",
       "      <td>False</td>\n",
       "      <td>False</td>\n",
       "      <td>True</td>\n",
       "      <td>True</td>\n",
       "      <td>2</td>\n",
       "    </tr>\n",
       "    <tr>\n",
       "      <th>57</th>\n",
       "      <td>REGION_POPULATION_RELATIVE</td>\n",
       "      <td>True</td>\n",
       "      <td>True</td>\n",
       "      <td>False</td>\n",
       "      <td>False</td>\n",
       "      <td>False</td>\n",
       "      <td>2</td>\n",
       "    </tr>\n",
       "    <tr>\n",
       "      <th>137</th>\n",
       "      <td>NAME_INCOME_TYPE_Working</td>\n",
       "      <td>False</td>\n",
       "      <td>False</td>\n",
       "      <td>False</td>\n",
       "      <td>True</td>\n",
       "      <td>True</td>\n",
       "      <td>2</td>\n",
       "    </tr>\n",
       "    <tr>\n",
       "      <th>133</th>\n",
       "      <td>NAME_INCOME_TYPE_Pensioner</td>\n",
       "      <td>False</td>\n",
       "      <td>True</td>\n",
       "      <td>False</td>\n",
       "      <td>True</td>\n",
       "      <td>False</td>\n",
       "      <td>2</td>\n",
       "    </tr>\n",
       "    <tr>\n",
       "      <th>159</th>\n",
       "      <td>NAME_EDUCATION_TYPE_Higher education</td>\n",
       "      <td>False</td>\n",
       "      <td>False</td>\n",
       "      <td>False</td>\n",
       "      <td>True</td>\n",
       "      <td>True</td>\n",
       "      <td>2</td>\n",
       "    </tr>\n",
       "    <tr>\n",
       "      <th>54</th>\n",
       "      <td>DAYS_REGISTRATION</td>\n",
       "      <td>True</td>\n",
       "      <td>False</td>\n",
       "      <td>True</td>\n",
       "      <td>False</td>\n",
       "      <td>False</td>\n",
       "      <td>2</td>\n",
       "    </tr>\n",
       "    <tr>\n",
       "      <th>53</th>\n",
       "      <td>DAYS_ID_PUBLISH</td>\n",
       "      <td>True</td>\n",
       "      <td>False</td>\n",
       "      <td>True</td>\n",
       "      <td>False</td>\n",
       "      <td>False</td>\n",
       "      <td>2</td>\n",
       "    </tr>\n",
       "    <tr>\n",
       "      <th>55</th>\n",
       "      <td>DAYS_EMPLOYED</td>\n",
       "      <td>True</td>\n",
       "      <td>False</td>\n",
       "      <td>True</td>\n",
       "      <td>False</td>\n",
       "      <td>False</td>\n",
       "      <td>2</td>\n",
       "    </tr>\n",
       "    <tr>\n",
       "      <th>66</th>\n",
       "      <td>CODE_GENDER_M</td>\n",
       "      <td>False</td>\n",
       "      <td>False</td>\n",
       "      <td>False</td>\n",
       "      <td>True</td>\n",
       "      <td>True</td>\n",
       "      <td>2</td>\n",
       "    </tr>\n",
       "    <tr>\n",
       "      <th>65</th>\n",
       "      <td>CODE_GENDER_F</td>\n",
       "      <td>False</td>\n",
       "      <td>False</td>\n",
       "      <td>False</td>\n",
       "      <td>True</td>\n",
       "      <td>True</td>\n",
       "      <td>2</td>\n",
       "    </tr>\n",
       "    <tr>\n",
       "      <th>15</th>\n",
       "      <td>AMT_INCOME_TOTAL</td>\n",
       "      <td>True</td>\n",
       "      <td>False</td>\n",
       "      <td>True</td>\n",
       "      <td>False</td>\n",
       "      <td>False</td>\n",
       "      <td>2</td>\n",
       "    </tr>\n",
       "    <tr>\n",
       "      <th>37</th>\n",
       "      <td>AMT_CREDIT</td>\n",
       "      <td>True</td>\n",
       "      <td>False</td>\n",
       "      <td>True</td>\n",
       "      <td>False</td>\n",
       "      <td>False</td>\n",
       "      <td>2</td>\n",
       "    </tr>\n",
       "    <tr>\n",
       "      <th>12</th>\n",
       "      <td>AMT_ANNUITY</td>\n",
       "      <td>True</td>\n",
       "      <td>False</td>\n",
       "      <td>True</td>\n",
       "      <td>False</td>\n",
       "      <td>False</td>\n",
       "      <td>2</td>\n",
       "    </tr>\n",
       "    <tr>\n",
       "      <th>45</th>\n",
       "      <td>REGION_RATING_CLIENT_W_CITY</td>\n",
       "      <td>False</td>\n",
       "      <td>False</td>\n",
       "      <td>False</td>\n",
       "      <td>False</td>\n",
       "      <td>True</td>\n",
       "      <td>1</td>\n",
       "    </tr>\n",
       "    <tr>\n",
       "      <th>46</th>\n",
       "      <td>REGION_RATING_CLIENT</td>\n",
       "      <td>False</td>\n",
       "      <td>False</td>\n",
       "      <td>False</td>\n",
       "      <td>False</td>\n",
       "      <td>True</td>\n",
       "      <td>1</td>\n",
       "    </tr>\n",
       "    <tr>\n",
       "      <th>129</th>\n",
       "      <td>ORGANIZATION_TYPE_XNA</td>\n",
       "      <td>False</td>\n",
       "      <td>True</td>\n",
       "      <td>False</td>\n",
       "      <td>False</td>\n",
       "      <td>False</td>\n",
       "      <td>1</td>\n",
       "    </tr>\n",
       "    <tr>\n",
       "      <th>136</th>\n",
       "      <td>NAME_INCOME_TYPE_Unemployed</td>\n",
       "      <td>False</td>\n",
       "      <td>True</td>\n",
       "      <td>False</td>\n",
       "      <td>False</td>\n",
       "      <td>False</td>\n",
       "      <td>1</td>\n",
       "    </tr>\n",
       "  </tbody>\n",
       "</table>\n",
       "</div>"
      ],
      "text/plain": [
       "                                  Feature  Random Forest  Lasso    RFE  \\\n",
       "10                           EXT_SOURCE_2           True   True  False   \n",
       "14                 DAYS_LAST_PHONE_CHANGE           True  False   True   \n",
       "56                             DAYS_BIRTH           True  False   True   \n",
       "39                 REG_CITY_NOT_WORK_CITY          False  False  False   \n",
       "57             REGION_POPULATION_RELATIVE           True   True  False   \n",
       "137              NAME_INCOME_TYPE_Working          False  False  False   \n",
       "133            NAME_INCOME_TYPE_Pensioner          False   True  False   \n",
       "159  NAME_EDUCATION_TYPE_Higher education          False  False  False   \n",
       "54                      DAYS_REGISTRATION           True  False   True   \n",
       "53                        DAYS_ID_PUBLISH           True  False   True   \n",
       "55                          DAYS_EMPLOYED           True  False   True   \n",
       "66                          CODE_GENDER_M          False  False  False   \n",
       "65                          CODE_GENDER_F          False  False  False   \n",
       "15                       AMT_INCOME_TOTAL           True  False   True   \n",
       "37                             AMT_CREDIT           True  False   True   \n",
       "12                            AMT_ANNUITY           True  False   True   \n",
       "45            REGION_RATING_CLIENT_W_CITY          False  False  False   \n",
       "46                   REGION_RATING_CLIENT          False  False  False   \n",
       "129                 ORGANIZATION_TYPE_XNA          False   True  False   \n",
       "136           NAME_INCOME_TYPE_Unemployed          False   True  False   \n",
       "\n",
       "     XGBoost  f_classif  total  \n",
       "10      True       True      4  \n",
       "14     False       True      3  \n",
       "56     False       True      3  \n",
       "39      True       True      2  \n",
       "57     False      False      2  \n",
       "137     True       True      2  \n",
       "133     True      False      2  \n",
       "159     True       True      2  \n",
       "54     False      False      2  \n",
       "53     False      False      2  \n",
       "55     False      False      2  \n",
       "66      True       True      2  \n",
       "65      True       True      2  \n",
       "15     False      False      2  \n",
       "37     False      False      2  \n",
       "12     False      False      2  \n",
       "45     False       True      1  \n",
       "46     False       True      1  \n",
       "129    False      False      1  \n",
       "136    False      False      1  "
      ]
     },
     "execution_count": 16,
     "metadata": {},
     "output_type": "execute_result"
    }
   ],
   "source": [
    "vote_df['total'] = np.sum(vote_df,axis = 1)\n",
    "vote_df = vote_df.sort_values(['total','Feature'],ascending = False)\n",
    "vote_df.head(20) "
   ]
  },
  {
   "cell_type": "markdown",
   "metadata": {},
   "source": [
    "# Feature Selection"
   ]
  },
  {
   "cell_type": "markdown",
   "metadata": {},
   "source": [
    "### We select features with more than one vote from the above dataframe"
   ]
  },
  {
   "cell_type": "code",
   "execution_count": 17,
   "metadata": {},
   "outputs": [
    {
     "data": {
      "text/html": [
       "<div>\n",
       "<style scoped>\n",
       "    .dataframe tbody tr th:only-of-type {\n",
       "        vertical-align: middle;\n",
       "    }\n",
       "\n",
       "    .dataframe tbody tr th {\n",
       "        vertical-align: top;\n",
       "    }\n",
       "\n",
       "    .dataframe thead th {\n",
       "        text-align: right;\n",
       "    }\n",
       "</style>\n",
       "<table border=\"1\" class=\"dataframe\">\n",
       "  <thead>\n",
       "    <tr style=\"text-align: right;\">\n",
       "      <th></th>\n",
       "      <th>EXT_SOURCE_2</th>\n",
       "      <th>DAYS_LAST_PHONE_CHANGE</th>\n",
       "      <th>DAYS_BIRTH</th>\n",
       "      <th>REG_CITY_NOT_WORK_CITY</th>\n",
       "      <th>REGION_POPULATION_RELATIVE</th>\n",
       "      <th>NAME_INCOME_TYPE_Working</th>\n",
       "      <th>NAME_INCOME_TYPE_Pensioner</th>\n",
       "      <th>NAME_EDUCATION_TYPE_Higher education</th>\n",
       "      <th>DAYS_REGISTRATION</th>\n",
       "      <th>DAYS_ID_PUBLISH</th>\n",
       "      <th>DAYS_EMPLOYED</th>\n",
       "      <th>CODE_GENDER_M</th>\n",
       "      <th>CODE_GENDER_F</th>\n",
       "      <th>AMT_INCOME_TOTAL</th>\n",
       "      <th>AMT_CREDIT</th>\n",
       "      <th>AMT_ANNUITY</th>\n",
       "    </tr>\n",
       "    <tr>\n",
       "      <th>SK_ID_CURR</th>\n",
       "      <th></th>\n",
       "      <th></th>\n",
       "      <th></th>\n",
       "      <th></th>\n",
       "      <th></th>\n",
       "      <th></th>\n",
       "      <th></th>\n",
       "      <th></th>\n",
       "      <th></th>\n",
       "      <th></th>\n",
       "      <th></th>\n",
       "      <th></th>\n",
       "      <th></th>\n",
       "      <th></th>\n",
       "      <th></th>\n",
       "      <th></th>\n",
       "    </tr>\n",
       "  </thead>\n",
       "  <tbody>\n",
       "    <tr>\n",
       "      <th>100002</th>\n",
       "      <td>0.262949</td>\n",
       "      <td>-1134.0</td>\n",
       "      <td>-9461</td>\n",
       "      <td>0</td>\n",
       "      <td>0.018801</td>\n",
       "      <td>1</td>\n",
       "      <td>0</td>\n",
       "      <td>0</td>\n",
       "      <td>-3648.0</td>\n",
       "      <td>-2120</td>\n",
       "      <td>-637</td>\n",
       "      <td>1</td>\n",
       "      <td>0</td>\n",
       "      <td>202500.0</td>\n",
       "      <td>406597.5</td>\n",
       "      <td>24700.5</td>\n",
       "    </tr>\n",
       "    <tr>\n",
       "      <th>100003</th>\n",
       "      <td>0.622246</td>\n",
       "      <td>-828.0</td>\n",
       "      <td>-16765</td>\n",
       "      <td>0</td>\n",
       "      <td>0.003541</td>\n",
       "      <td>0</td>\n",
       "      <td>0</td>\n",
       "      <td>1</td>\n",
       "      <td>-1186.0</td>\n",
       "      <td>-291</td>\n",
       "      <td>-1188</td>\n",
       "      <td>0</td>\n",
       "      <td>1</td>\n",
       "      <td>270000.0</td>\n",
       "      <td>1293502.5</td>\n",
       "      <td>35698.5</td>\n",
       "    </tr>\n",
       "    <tr>\n",
       "      <th>100004</th>\n",
       "      <td>0.555912</td>\n",
       "      <td>-815.0</td>\n",
       "      <td>-19046</td>\n",
       "      <td>0</td>\n",
       "      <td>0.010032</td>\n",
       "      <td>1</td>\n",
       "      <td>0</td>\n",
       "      <td>0</td>\n",
       "      <td>-4260.0</td>\n",
       "      <td>-2531</td>\n",
       "      <td>-225</td>\n",
       "      <td>1</td>\n",
       "      <td>0</td>\n",
       "      <td>67500.0</td>\n",
       "      <td>135000.0</td>\n",
       "      <td>6750.0</td>\n",
       "    </tr>\n",
       "    <tr>\n",
       "      <th>100007</th>\n",
       "      <td>0.322738</td>\n",
       "      <td>-1106.0</td>\n",
       "      <td>-19932</td>\n",
       "      <td>1</td>\n",
       "      <td>0.028663</td>\n",
       "      <td>1</td>\n",
       "      <td>0</td>\n",
       "      <td>0</td>\n",
       "      <td>-4311.0</td>\n",
       "      <td>-3458</td>\n",
       "      <td>-3038</td>\n",
       "      <td>1</td>\n",
       "      <td>0</td>\n",
       "      <td>121500.0</td>\n",
       "      <td>513000.0</td>\n",
       "      <td>21865.5</td>\n",
       "    </tr>\n",
       "    <tr>\n",
       "      <th>100008</th>\n",
       "      <td>0.354225</td>\n",
       "      <td>-2536.0</td>\n",
       "      <td>-16941</td>\n",
       "      <td>0</td>\n",
       "      <td>0.035792</td>\n",
       "      <td>0</td>\n",
       "      <td>0</td>\n",
       "      <td>0</td>\n",
       "      <td>-4970.0</td>\n",
       "      <td>-477</td>\n",
       "      <td>-1588</td>\n",
       "      <td>1</td>\n",
       "      <td>0</td>\n",
       "      <td>99000.0</td>\n",
       "      <td>490495.5</td>\n",
       "      <td>27517.5</td>\n",
       "    </tr>\n",
       "  </tbody>\n",
       "</table>\n",
       "</div>"
      ],
      "text/plain": [
       "            EXT_SOURCE_2  DAYS_LAST_PHONE_CHANGE  DAYS_BIRTH  \\\n",
       "SK_ID_CURR                                                     \n",
       "100002          0.262949                 -1134.0       -9461   \n",
       "100003          0.622246                  -828.0      -16765   \n",
       "100004          0.555912                  -815.0      -19046   \n",
       "100007          0.322738                 -1106.0      -19932   \n",
       "100008          0.354225                 -2536.0      -16941   \n",
       "\n",
       "            REG_CITY_NOT_WORK_CITY  REGION_POPULATION_RELATIVE  \\\n",
       "SK_ID_CURR                                                       \n",
       "100002                           0                    0.018801   \n",
       "100003                           0                    0.003541   \n",
       "100004                           0                    0.010032   \n",
       "100007                           1                    0.028663   \n",
       "100008                           0                    0.035792   \n",
       "\n",
       "            NAME_INCOME_TYPE_Working  NAME_INCOME_TYPE_Pensioner  \\\n",
       "SK_ID_CURR                                                         \n",
       "100002                             1                           0   \n",
       "100003                             0                           0   \n",
       "100004                             1                           0   \n",
       "100007                             1                           0   \n",
       "100008                             0                           0   \n",
       "\n",
       "            NAME_EDUCATION_TYPE_Higher education  DAYS_REGISTRATION  \\\n",
       "SK_ID_CURR                                                            \n",
       "100002                                         0            -3648.0   \n",
       "100003                                         1            -1186.0   \n",
       "100004                                         0            -4260.0   \n",
       "100007                                         0            -4311.0   \n",
       "100008                                         0            -4970.0   \n",
       "\n",
       "            DAYS_ID_PUBLISH  DAYS_EMPLOYED  CODE_GENDER_M  CODE_GENDER_F  \\\n",
       "SK_ID_CURR                                                                 \n",
       "100002                -2120           -637              1              0   \n",
       "100003                 -291          -1188              0              1   \n",
       "100004                -2531           -225              1              0   \n",
       "100007                -3458          -3038              1              0   \n",
       "100008                 -477          -1588              1              0   \n",
       "\n",
       "            AMT_INCOME_TOTAL  AMT_CREDIT  AMT_ANNUITY  \n",
       "SK_ID_CURR                                             \n",
       "100002              202500.0    406597.5      24700.5  \n",
       "100003              270000.0   1293502.5      35698.5  \n",
       "100004               67500.0    135000.0       6750.0  \n",
       "100007              121500.0    513000.0      21865.5  \n",
       "100008               99000.0    490495.5      27517.5  "
      ]
     },
     "execution_count": 17,
     "metadata": {},
     "output_type": "execute_result"
    }
   ],
   "source": [
    "feature_model_idx = vote_df[vote_df.total > 1]['Feature']\n",
    "features_16 = feature_train[feature_model_idx]\n",
    "features_16.head()"
   ]
  },
  {
   "cell_type": "markdown",
   "metadata": {},
   "source": [
    "### Check correlations between target and each of features\n",
    " Since last step we filter features with missing values less than 15%, we might lose some important features with missing values more than 15%.\n",
    "\n",
    "Therefore we want to use the method of correlation between target and each of features to explore important features."
   ]
  },
  {
   "cell_type": "code",
   "execution_count": 18,
   "metadata": {},
   "outputs": [
    {
     "name": "stdout",
     "output_type": "stream",
     "text": [
      "Most Positive Correlations:\n",
      " DAYS_REGISTRATION                                    0.041975\n",
      "OCCUPATION_TYPE_Laborers                             0.043019\n",
      "FLAG_DOCUMENT_3                                      0.044346\n",
      "REG_CITY_NOT_LIVE_CITY                               0.044395\n",
      "FLAG_EMP_PHONE                                       0.045982\n",
      "NAME_EDUCATION_TYPE_Secondary / secondary special    0.049824\n",
      "REG_CITY_NOT_WORK_CITY                               0.050994\n",
      "DAYS_ID_PUBLISH                                      0.051457\n",
      "CODE_GENDER_M                                        0.054713\n",
      "DAYS_LAST_PHONE_CHANGE                               0.055218\n",
      "NAME_INCOME_TYPE_Working                             0.057481\n",
      "REGION_RATING_CLIENT                                 0.058899\n",
      "REGION_RATING_CLIENT_W_CITY                          0.060893\n",
      "DAYS_BIRTH                                           0.078239\n",
      "TARGET                                               1.000000\n",
      "Name: TARGET, dtype: float64\n",
      "\n",
      "Most Negative Correlations:\n",
      " EXT_SOURCE_3                           -0.178919\n",
      "EXT_SOURCE_2                           -0.160472\n",
      "EXT_SOURCE_1                           -0.155317\n",
      "NAME_EDUCATION_TYPE_Higher education   -0.056593\n",
      "CODE_GENDER_F                          -0.054704\n",
      "NAME_INCOME_TYPE_Pensioner             -0.046209\n",
      "ORGANIZATION_TYPE_XNA                  -0.045987\n",
      "DAYS_EMPLOYED                          -0.044932\n",
      "FLOORSMAX_AVG                          -0.044003\n",
      "FLOORSMAX_MEDI                         -0.043768\n",
      "FLOORSMAX_MODE                         -0.043226\n",
      "EMERGENCYSTATE_MODE_No                 -0.042201\n",
      "HOUSETYPE_MODE_block of flats          -0.040594\n",
      "AMT_GOODS_PRICE                        -0.039645\n",
      "REGION_POPULATION_RELATIVE             -0.037227\n",
      "Name: TARGET, dtype: float64\n"
     ]
    }
   ],
   "source": [
    "correlations = df_temp.corr()['TARGET'].sort_values()\n",
    "print('Most Positive Correlations:\\n', correlations.tail(15))\n",
    "print('\\nMost Negative Correlations:\\n', correlations.head(15))"
   ]
  },
  {
   "cell_type": "markdown",
   "metadata": {},
   "source": [
    "### Find features that have high correlation with target but not in the last updated feature list."
   ]
  },
  {
   "cell_type": "code",
   "execution_count": 19,
   "metadata": {},
   "outputs": [
    {
     "data": {
      "text/plain": [
       "{'EXT_SOURCE_1',\n",
       " 'EXT_SOURCE_3',\n",
       " 'FLOORSMAX_AVG',\n",
       " 'FLOORSMAX_MEDI',\n",
       " 'FLOORSMAX_MODE'}"
      ]
     },
     "execution_count": 19,
     "metadata": {},
     "output_type": "execute_result"
    }
   ],
   "source": [
    "hcorr_list = correlations.head(15).index.tolist() + correlations.tail(15).index.tolist()\n",
    "dropped_idx = missing_df[missing_df['missing_percentage(%)']>15].index\n",
    "dropped_selection = set(dropped_idx.tolist()) & set(hcorr_list)\n",
    "dropped_selection"
   ]
  },
  {
   "cell_type": "markdown",
   "metadata": {},
   "source": [
    "Display those features and check their missing values"
   ]
  },
  {
   "cell_type": "code",
   "execution_count": 20,
   "metadata": {
    "scrolled": true
   },
   "outputs": [
    {
     "data": {
      "text/html": [
       "<div>\n",
       "<style scoped>\n",
       "    .dataframe tbody tr th:only-of-type {\n",
       "        vertical-align: middle;\n",
       "    }\n",
       "\n",
       "    .dataframe tbody tr th {\n",
       "        vertical-align: top;\n",
       "    }\n",
       "\n",
       "    .dataframe thead th {\n",
       "        text-align: right;\n",
       "    }\n",
       "</style>\n",
       "<table border=\"1\" class=\"dataframe\">\n",
       "  <thead>\n",
       "    <tr style=\"text-align: right;\">\n",
       "      <th></th>\n",
       "      <th>missing_values</th>\n",
       "      <th>missing_percentage(%)</th>\n",
       "    </tr>\n",
       "  </thead>\n",
       "  <tbody>\n",
       "    <tr>\n",
       "      <th>EXT_SOURCE_1</th>\n",
       "      <td>173378</td>\n",
       "      <td>56.381073</td>\n",
       "    </tr>\n",
       "    <tr>\n",
       "      <th>FLOORSMAX_AVG</th>\n",
       "      <td>153020</td>\n",
       "      <td>49.760822</td>\n",
       "    </tr>\n",
       "    <tr>\n",
       "      <th>EXT_SOURCE_3</th>\n",
       "      <td>60965</td>\n",
       "      <td>19.825307</td>\n",
       "    </tr>\n",
       "    <tr>\n",
       "      <th>FLOORSMAX_MEDI</th>\n",
       "      <td>153020</td>\n",
       "      <td>49.760822</td>\n",
       "    </tr>\n",
       "    <tr>\n",
       "      <th>FLOORSMAX_MODE</th>\n",
       "      <td>153020</td>\n",
       "      <td>49.760822</td>\n",
       "    </tr>\n",
       "  </tbody>\n",
       "</table>\n",
       "</div>"
      ],
      "text/plain": [
       "                missing_values  missing_percentage(%)\n",
       "EXT_SOURCE_1            173378              56.381073\n",
       "FLOORSMAX_AVG           153020              49.760822\n",
       "EXT_SOURCE_3             60965              19.825307\n",
       "FLOORSMAX_MEDI          153020              49.760822\n",
       "FLOORSMAX_MODE          153020              49.760822"
      ]
     },
     "execution_count": 20,
     "metadata": {},
     "output_type": "execute_result"
    }
   ],
   "source": [
    "missing_df.loc[list(dropped_selection)]"
   ]
  },
  {
   "cell_type": "markdown",
   "metadata": {},
   "source": [
    "### We append those features to our feature list"
   ]
  },
  {
   "cell_type": "code",
   "execution_count": 32,
   "metadata": {},
   "outputs": [],
   "source": [
    "five_features = df_temp[dropped_selection]\n",
    "feature_train = pd.concat([features_16,five_features.loc[feature_train.index]], axis=1)"
   ]
  },
  {
   "cell_type": "markdown",
   "metadata": {},
   "source": [
    "## Get key feature data from the dataframe "
   ]
  },
  {
   "cell_type": "markdown",
   "metadata": {},
   "source": [
    "### Transform days of birth to age"
   ]
  },
  {
   "cell_type": "code",
   "execution_count": 33,
   "metadata": {},
   "outputs": [],
   "source": [
    "feature_train['Age'] = feature_train['DAYS_BIRTH']/-365\n",
    "feature_train['Age'].astype(int).head()\n",
    "feature_train.drop(['DAYS_BIRTH'],inplace=True, axis=1)"
   ]
  },
  {
   "cell_type": "markdown",
   "metadata": {},
   "source": [
    "# Plots with high quality"
   ]
  },
  {
   "cell_type": "code",
   "execution_count": 34,
   "metadata": {},
   "outputs": [],
   "source": [
    "plot_data1 = pd.concat([target_train, feature_train],axis=1)"
   ]
  },
  {
   "cell_type": "markdown",
   "metadata": {},
   "source": [
    "### Prepare numerical data for min-max scale"
   ]
  },
  {
   "cell_type": "code",
   "execution_count": 35,
   "metadata": {},
   "outputs": [],
   "source": [
    "feature_sca_names = feature_train.dtypes[(feature_train.dtypes==np.float64) \n",
    "                                   | (feature_train.dtypes==np.int64)].index.tolist()\n",
    "feature_sca = feature_train[feature_sca_names]"
   ]
  },
  {
   "cell_type": "code",
   "execution_count": 36,
   "metadata": {},
   "outputs": [
    {
     "data": {
      "text/plain": [
       "(263423, 21)"
      ]
     },
     "execution_count": 36,
     "metadata": {},
     "output_type": "execute_result"
    }
   ],
   "source": [
    "feature_train.shape"
   ]
  },
  {
   "cell_type": "code",
   "execution_count": 37,
   "metadata": {
    "scrolled": false
   },
   "outputs": [
    {
     "data": {
      "image/png": "[encoded data removed]",
      "text/plain": [
       "<Figure size 720x3600 with 16 Axes>"
      ]
     },
     "metadata": {
      "needs_background": "light"
     },
     "output_type": "display_data"
    }
   ],
   "source": [
    "plt.figure(figsize = (10, 50))\n",
    "\n",
    "# iterate through the sources\n",
    "for i, source in enumerate(feature_sca_names):\n",
    "    \n",
    "    # create a new subplot for each source\n",
    "    plt.subplot(17, 1, i + 1)\n",
    "    # plot repaid loans\n",
    "    sns.kdeplot(plot_data1.loc[plot_data1['TARGET'] == 0, source], label = 'target == 0')\n",
    "    # plot loans that were not repaid\n",
    "    sns.kdeplot(plot_data1.loc[plot_data1['TARGET'] == 1, source], label = 'target == 1')\n",
    "    \n",
    "    # Label the plots\n",
    "    plt.title('Distribution of %s by Target Value' % source)\n",
    "    plt.xlabel('%s' % source); plt.ylabel('Density');\n",
    "    \n",
    "plt.tight_layout(h_pad = 2.5)  "
   ]
  },
  {
   "cell_type": "markdown",
   "metadata": {},
   "source": [
    "# Feature Construction"
   ]
  },
  {
   "cell_type": "code",
   "execution_count": 38,
   "metadata": {},
   "outputs": [
    {
     "data": {
      "text/html": [
       "<div>\n",
       "<style scoped>\n",
       "    .dataframe tbody tr th:only-of-type {\n",
       "        vertical-align: middle;\n",
       "    }\n",
       "\n",
       "    .dataframe tbody tr th {\n",
       "        vertical-align: top;\n",
       "    }\n",
       "\n",
       "    .dataframe thead th {\n",
       "        text-align: right;\n",
       "    }\n",
       "</style>\n",
       "<table border=\"1\" class=\"dataframe\">\n",
       "  <thead>\n",
       "    <tr style=\"text-align: right;\">\n",
       "      <th></th>\n",
       "      <th>EXT_SOURCE_2</th>\n",
       "      <th>DAYS_LAST_PHONE_CHANGE</th>\n",
       "      <th>REG_CITY_NOT_WORK_CITY</th>\n",
       "      <th>REGION_POPULATION_RELATIVE</th>\n",
       "      <th>NAME_INCOME_TYPE_Working</th>\n",
       "      <th>NAME_INCOME_TYPE_Pensioner</th>\n",
       "      <th>NAME_EDUCATION_TYPE_Higher education</th>\n",
       "      <th>DAYS_REGISTRATION</th>\n",
       "      <th>DAYS_ID_PUBLISH</th>\n",
       "      <th>DAYS_EMPLOYED</th>\n",
       "      <th>...</th>\n",
       "      <th>EXT_SOURCE_1</th>\n",
       "      <th>FLOORSMAX_AVG</th>\n",
       "      <th>EXT_SOURCE_3</th>\n",
       "      <th>FLOORSMAX_MEDI</th>\n",
       "      <th>FLOORSMAX_MODE</th>\n",
       "      <th>Age</th>\n",
       "      <th>CREDIT_INCOME_PERCENT</th>\n",
       "      <th>ANNUITY_INCOME_PERCENT</th>\n",
       "      <th>CREDIT_TERM</th>\n",
       "      <th>DAYS_EMPLOYED_PERCENT</th>\n",
       "    </tr>\n",
       "    <tr>\n",
       "      <th>SK_ID_CURR</th>\n",
       "      <th></th>\n",
       "      <th></th>\n",
       "      <th></th>\n",
       "      <th></th>\n",
       "      <th></th>\n",
       "      <th></th>\n",
       "      <th></th>\n",
       "      <th></th>\n",
       "      <th></th>\n",
       "      <th></th>\n",
       "      <th></th>\n",
       "      <th></th>\n",
       "      <th></th>\n",
       "      <th></th>\n",
       "      <th></th>\n",
       "      <th></th>\n",
       "      <th></th>\n",
       "      <th></th>\n",
       "      <th></th>\n",
       "      <th></th>\n",
       "      <th></th>\n",
       "    </tr>\n",
       "  </thead>\n",
       "  <tbody>\n",
       "    <tr>\n",
       "      <th>100002</th>\n",
       "      <td>0.262949</td>\n",
       "      <td>-1134.0</td>\n",
       "      <td>0</td>\n",
       "      <td>0.018801</td>\n",
       "      <td>1</td>\n",
       "      <td>0</td>\n",
       "      <td>0</td>\n",
       "      <td>-3648.0</td>\n",
       "      <td>-2120</td>\n",
       "      <td>-637</td>\n",
       "      <td>...</td>\n",
       "      <td>0.083037</td>\n",
       "      <td>0.0833</td>\n",
       "      <td>0.139376</td>\n",
       "      <td>0.0833</td>\n",
       "      <td>0.0833</td>\n",
       "      <td>25.920548</td>\n",
       "      <td>2.007889</td>\n",
       "      <td>0.121978</td>\n",
       "      <td>0.060749</td>\n",
       "      <td>0.067329</td>\n",
       "    </tr>\n",
       "    <tr>\n",
       "      <th>100003</th>\n",
       "      <td>0.622246</td>\n",
       "      <td>-828.0</td>\n",
       "      <td>0</td>\n",
       "      <td>0.003541</td>\n",
       "      <td>0</td>\n",
       "      <td>0</td>\n",
       "      <td>1</td>\n",
       "      <td>-1186.0</td>\n",
       "      <td>-291</td>\n",
       "      <td>-1188</td>\n",
       "      <td>...</td>\n",
       "      <td>0.311267</td>\n",
       "      <td>0.2917</td>\n",
       "      <td>NaN</td>\n",
       "      <td>0.2917</td>\n",
       "      <td>0.2917</td>\n",
       "      <td>45.931507</td>\n",
       "      <td>4.790750</td>\n",
       "      <td>0.132217</td>\n",
       "      <td>0.027598</td>\n",
       "      <td>0.070862</td>\n",
       "    </tr>\n",
       "    <tr>\n",
       "      <th>100004</th>\n",
       "      <td>0.555912</td>\n",
       "      <td>-815.0</td>\n",
       "      <td>0</td>\n",
       "      <td>0.010032</td>\n",
       "      <td>1</td>\n",
       "      <td>0</td>\n",
       "      <td>0</td>\n",
       "      <td>-4260.0</td>\n",
       "      <td>-2531</td>\n",
       "      <td>-225</td>\n",
       "      <td>...</td>\n",
       "      <td>NaN</td>\n",
       "      <td>NaN</td>\n",
       "      <td>0.729567</td>\n",
       "      <td>NaN</td>\n",
       "      <td>NaN</td>\n",
       "      <td>52.180822</td>\n",
       "      <td>2.000000</td>\n",
       "      <td>0.100000</td>\n",
       "      <td>0.050000</td>\n",
       "      <td>0.011814</td>\n",
       "    </tr>\n",
       "    <tr>\n",
       "      <th>100007</th>\n",
       "      <td>0.322738</td>\n",
       "      <td>-1106.0</td>\n",
       "      <td>1</td>\n",
       "      <td>0.028663</td>\n",
       "      <td>1</td>\n",
       "      <td>0</td>\n",
       "      <td>0</td>\n",
       "      <td>-4311.0</td>\n",
       "      <td>-3458</td>\n",
       "      <td>-3038</td>\n",
       "      <td>...</td>\n",
       "      <td>NaN</td>\n",
       "      <td>NaN</td>\n",
       "      <td>NaN</td>\n",
       "      <td>NaN</td>\n",
       "      <td>NaN</td>\n",
       "      <td>54.608219</td>\n",
       "      <td>4.222222</td>\n",
       "      <td>0.179963</td>\n",
       "      <td>0.042623</td>\n",
       "      <td>0.152418</td>\n",
       "    </tr>\n",
       "    <tr>\n",
       "      <th>100008</th>\n",
       "      <td>0.354225</td>\n",
       "      <td>-2536.0</td>\n",
       "      <td>0</td>\n",
       "      <td>0.035792</td>\n",
       "      <td>0</td>\n",
       "      <td>0</td>\n",
       "      <td>0</td>\n",
       "      <td>-4970.0</td>\n",
       "      <td>-477</td>\n",
       "      <td>-1588</td>\n",
       "      <td>...</td>\n",
       "      <td>NaN</td>\n",
       "      <td>NaN</td>\n",
       "      <td>0.621226</td>\n",
       "      <td>NaN</td>\n",
       "      <td>NaN</td>\n",
       "      <td>46.413699</td>\n",
       "      <td>4.954500</td>\n",
       "      <td>0.277955</td>\n",
       "      <td>0.056101</td>\n",
       "      <td>0.093737</td>\n",
       "    </tr>\n",
       "  </tbody>\n",
       "</table>\n",
       "<p>5 rows × 25 columns</p>\n",
       "</div>"
      ],
      "text/plain": [
       "            EXT_SOURCE_2  DAYS_LAST_PHONE_CHANGE  REG_CITY_NOT_WORK_CITY  \\\n",
       "SK_ID_CURR                                                                 \n",
       "100002          0.262949                 -1134.0                       0   \n",
       "100003          0.622246                  -828.0                       0   \n",
       "100004          0.555912                  -815.0                       0   \n",
       "100007          0.322738                 -1106.0                       1   \n",
       "100008          0.354225                 -2536.0                       0   \n",
       "\n",
       "            REGION_POPULATION_RELATIVE  NAME_INCOME_TYPE_Working  \\\n",
       "SK_ID_CURR                                                         \n",
       "100002                        0.018801                         1   \n",
       "100003                        0.003541                         0   \n",
       "100004                        0.010032                         1   \n",
       "100007                        0.028663                         1   \n",
       "100008                        0.035792                         0   \n",
       "\n",
       "            NAME_INCOME_TYPE_Pensioner  NAME_EDUCATION_TYPE_Higher education  \\\n",
       "SK_ID_CURR                                                                     \n",
       "100002                               0                                     0   \n",
       "100003                               0                                     1   \n",
       "100004                               0                                     0   \n",
       "100007                               0                                     0   \n",
       "100008                               0                                     0   \n",
       "\n",
       "            DAYS_REGISTRATION  DAYS_ID_PUBLISH  DAYS_EMPLOYED  ...  \\\n",
       "SK_ID_CURR                                                     ...   \n",
       "100002                -3648.0            -2120           -637  ...   \n",
       "100003                -1186.0             -291          -1188  ...   \n",
       "100004                -4260.0            -2531           -225  ...   \n",
       "100007                -4311.0            -3458          -3038  ...   \n",
       "100008                -4970.0             -477          -1588  ...   \n",
       "\n",
       "            EXT_SOURCE_1  FLOORSMAX_AVG  EXT_SOURCE_3  FLOORSMAX_MEDI  \\\n",
       "SK_ID_CURR                                                              \n",
       "100002          0.083037         0.0833      0.139376          0.0833   \n",
       "100003          0.311267         0.2917           NaN          0.2917   \n",
       "100004               NaN            NaN      0.729567             NaN   \n",
       "100007               NaN            NaN           NaN             NaN   \n",
       "100008               NaN            NaN      0.621226             NaN   \n",
       "\n",
       "            FLOORSMAX_MODE        Age  CREDIT_INCOME_PERCENT  \\\n",
       "SK_ID_CURR                                                     \n",
       "100002              0.0833  25.920548               2.007889   \n",
       "100003              0.2917  45.931507               4.790750   \n",
       "100004                 NaN  52.180822               2.000000   \n",
       "100007                 NaN  54.608219               4.222222   \n",
       "100008                 NaN  46.413699               4.954500   \n",
       "\n",
       "            ANNUITY_INCOME_PERCENT  CREDIT_TERM  DAYS_EMPLOYED_PERCENT  \n",
       "SK_ID_CURR                                                              \n",
       "100002                    0.121978     0.060749               0.067329  \n",
       "100003                    0.132217     0.027598               0.070862  \n",
       "100004                    0.100000     0.050000               0.011814  \n",
       "100007                    0.179963     0.042623               0.152418  \n",
       "100008                    0.277955     0.056101               0.093737  \n",
       "\n",
       "[5 rows x 25 columns]"
      ]
     },
     "execution_count": 38,
     "metadata": {},
     "output_type": "execute_result"
    }
   ],
   "source": [
    "# feature construction by domain knowledge there are 21 features\n",
    "feature_train['CREDIT_INCOME_PERCENT'] = feature_train['AMT_CREDIT'] / feature_train['AMT_INCOME_TOTAL']\n",
    "feature_train['ANNUITY_INCOME_PERCENT'] = feature_train['AMT_ANNUITY'] / feature_train['AMT_INCOME_TOTAL']\n",
    "feature_train['CREDIT_TERM'] = feature_train['AMT_ANNUITY'] / feature_train['AMT_CREDIT']\n",
    "feature_train['DAYS_EMPLOYED_PERCENT'] = feature_train['DAYS_EMPLOYED'] / (feature_train['Age']*(-365))\n",
    "feature_train.head()"
   ]
  },
  {
   "cell_type": "markdown",
   "metadata": {},
   "source": [
    "# Feature Scaling\n",
    "### Min-max scale"
   ]
  },
  {
   "cell_type": "code",
   "execution_count": 39,
   "metadata": {},
   "outputs": [],
   "source": [
    "scaler = MinMaxScaler()\n",
    "feature_after_sca = scaler.fit_transform(feature_sca)\n",
    "feature_after_sca_df = pd.DataFrame(feature_after_sca, \n",
    "                                 columns = feature_sca_names, \n",
    "                                 index = feature_train.index)"
   ]
  },
  {
   "cell_type": "markdown",
   "metadata": {},
   "source": [
    "### Combine feature train datasets"
   ]
  },
  {
   "cell_type": "code",
   "execution_count": 40,
   "metadata": {},
   "outputs": [
    {
     "data": {
      "text/html": [
       "<div>\n",
       "<style scoped>\n",
       "    .dataframe tbody tr th:only-of-type {\n",
       "        vertical-align: middle;\n",
       "    }\n",
       "\n",
       "    .dataframe tbody tr th {\n",
       "        vertical-align: top;\n",
       "    }\n",
       "\n",
       "    .dataframe thead th {\n",
       "        text-align: right;\n",
       "    }\n",
       "</style>\n",
       "<table border=\"1\" class=\"dataframe\">\n",
       "  <thead>\n",
       "    <tr style=\"text-align: right;\">\n",
       "      <th></th>\n",
       "      <th>EXT_SOURCE_2</th>\n",
       "      <th>DAYS_LAST_PHONE_CHANGE</th>\n",
       "      <th>REG_CITY_NOT_WORK_CITY</th>\n",
       "      <th>REGION_POPULATION_RELATIVE</th>\n",
       "      <th>DAYS_REGISTRATION</th>\n",
       "      <th>DAYS_ID_PUBLISH</th>\n",
       "      <th>DAYS_EMPLOYED</th>\n",
       "      <th>AMT_INCOME_TOTAL</th>\n",
       "      <th>AMT_CREDIT</th>\n",
       "      <th>AMT_ANNUITY</th>\n",
       "      <th>...</th>\n",
       "      <th>FLOORSMAX_AVG</th>\n",
       "      <th>EXT_SOURCE_3</th>\n",
       "      <th>FLOORSMAX_MEDI</th>\n",
       "      <th>FLOORSMAX_MODE</th>\n",
       "      <th>Age</th>\n",
       "      <th>NAME_INCOME_TYPE_Working</th>\n",
       "      <th>NAME_INCOME_TYPE_Pensioner</th>\n",
       "      <th>NAME_EDUCATION_TYPE_Higher education</th>\n",
       "      <th>CODE_GENDER_M</th>\n",
       "      <th>CODE_GENDER_F</th>\n",
       "    </tr>\n",
       "    <tr>\n",
       "      <th>SK_ID_CURR</th>\n",
       "      <th></th>\n",
       "      <th></th>\n",
       "      <th></th>\n",
       "      <th></th>\n",
       "      <th></th>\n",
       "      <th></th>\n",
       "      <th></th>\n",
       "      <th></th>\n",
       "      <th></th>\n",
       "      <th></th>\n",
       "      <th></th>\n",
       "      <th></th>\n",
       "      <th></th>\n",
       "      <th></th>\n",
       "      <th></th>\n",
       "      <th></th>\n",
       "      <th></th>\n",
       "      <th></th>\n",
       "      <th></th>\n",
       "      <th></th>\n",
       "      <th></th>\n",
       "    </tr>\n",
       "  </thead>\n",
       "  <tbody>\n",
       "    <tr>\n",
       "      <th>100002</th>\n",
       "      <td>0.307541</td>\n",
       "      <td>0.729032</td>\n",
       "      <td>0.0</td>\n",
       "      <td>0.256321</td>\n",
       "      <td>0.852140</td>\n",
       "      <td>0.705433</td>\n",
       "      <td>0.045086</td>\n",
       "      <td>0.001508</td>\n",
       "      <td>0.090287</td>\n",
       "      <td>0.090032</td>\n",
       "      <td>...</td>\n",
       "      <td>0.0833</td>\n",
       "      <td>0.155054</td>\n",
       "      <td>0.0833</td>\n",
       "      <td>0.0833</td>\n",
       "      <td>0.111337</td>\n",
       "      <td>1</td>\n",
       "      <td>0</td>\n",
       "      <td>0</td>\n",
       "      <td>1</td>\n",
       "      <td>0</td>\n",
       "    </tr>\n",
       "    <tr>\n",
       "      <th>100003</th>\n",
       "      <td>0.727773</td>\n",
       "      <td>0.802151</td>\n",
       "      <td>0.0</td>\n",
       "      <td>0.045016</td>\n",
       "      <td>0.951929</td>\n",
       "      <td>0.959566</td>\n",
       "      <td>0.043648</td>\n",
       "      <td>0.002085</td>\n",
       "      <td>0.311736</td>\n",
       "      <td>0.132924</td>\n",
       "      <td>...</td>\n",
       "      <td>0.2917</td>\n",
       "      <td>NaN</td>\n",
       "      <td>0.2917</td>\n",
       "      <td>0.2917</td>\n",
       "      <td>0.523713</td>\n",
       "      <td>0</td>\n",
       "      <td>0</td>\n",
       "      <td>1</td>\n",
       "      <td>0</td>\n",
       "      <td>1</td>\n",
       "    </tr>\n",
       "    <tr>\n",
       "      <th>100004</th>\n",
       "      <td>0.650189</td>\n",
       "      <td>0.805257</td>\n",
       "      <td>0.0</td>\n",
       "      <td>0.134897</td>\n",
       "      <td>0.827335</td>\n",
       "      <td>0.648326</td>\n",
       "      <td>0.046161</td>\n",
       "      <td>0.000354</td>\n",
       "      <td>0.022472</td>\n",
       "      <td>0.020025</td>\n",
       "      <td>...</td>\n",
       "      <td>NaN</td>\n",
       "      <td>0.814130</td>\n",
       "      <td>NaN</td>\n",
       "      <td>NaN</td>\n",
       "      <td>0.652495</td>\n",
       "      <td>1</td>\n",
       "      <td>0</td>\n",
       "      <td>0</td>\n",
       "      <td>1</td>\n",
       "      <td>0</td>\n",
       "    </tr>\n",
       "    <tr>\n",
       "      <th>100007</th>\n",
       "      <td>0.377471</td>\n",
       "      <td>0.735723</td>\n",
       "      <td>1.0</td>\n",
       "      <td>0.392880</td>\n",
       "      <td>0.825268</td>\n",
       "      <td>0.519522</td>\n",
       "      <td>0.038820</td>\n",
       "      <td>0.000816</td>\n",
       "      <td>0.116854</td>\n",
       "      <td>0.078975</td>\n",
       "      <td>...</td>\n",
       "      <td>NaN</td>\n",
       "      <td>NaN</td>\n",
       "      <td>NaN</td>\n",
       "      <td>NaN</td>\n",
       "      <td>0.702518</td>\n",
       "      <td>1</td>\n",
       "      <td>0</td>\n",
       "      <td>0</td>\n",
       "      <td>1</td>\n",
       "      <td>0</td>\n",
       "    </tr>\n",
       "    <tr>\n",
       "      <th>100008</th>\n",
       "      <td>0.414297</td>\n",
       "      <td>0.394026</td>\n",
       "      <td>0.0</td>\n",
       "      <td>0.491595</td>\n",
       "      <td>0.798557</td>\n",
       "      <td>0.933722</td>\n",
       "      <td>0.042604</td>\n",
       "      <td>0.000623</td>\n",
       "      <td>0.111235</td>\n",
       "      <td>0.101018</td>\n",
       "      <td>...</td>\n",
       "      <td>NaN</td>\n",
       "      <td>0.693145</td>\n",
       "      <td>NaN</td>\n",
       "      <td>NaN</td>\n",
       "      <td>0.533650</td>\n",
       "      <td>0</td>\n",
       "      <td>0</td>\n",
       "      <td>0</td>\n",
       "      <td>1</td>\n",
       "      <td>0</td>\n",
       "    </tr>\n",
       "  </tbody>\n",
       "</table>\n",
       "<p>5 rows × 21 columns</p>\n",
       "</div>"
      ],
      "text/plain": [
       "            EXT_SOURCE_2  DAYS_LAST_PHONE_CHANGE  REG_CITY_NOT_WORK_CITY  \\\n",
       "SK_ID_CURR                                                                 \n",
       "100002          0.307541                0.729032                     0.0   \n",
       "100003          0.727773                0.802151                     0.0   \n",
       "100004          0.650189                0.805257                     0.0   \n",
       "100007          0.377471                0.735723                     1.0   \n",
       "100008          0.414297                0.394026                     0.0   \n",
       "\n",
       "            REGION_POPULATION_RELATIVE  DAYS_REGISTRATION  DAYS_ID_PUBLISH  \\\n",
       "SK_ID_CURR                                                                   \n",
       "100002                        0.256321           0.852140         0.705433   \n",
       "100003                        0.045016           0.951929         0.959566   \n",
       "100004                        0.134897           0.827335         0.648326   \n",
       "100007                        0.392880           0.825268         0.519522   \n",
       "100008                        0.491595           0.798557         0.933722   \n",
       "\n",
       "            DAYS_EMPLOYED  AMT_INCOME_TOTAL  AMT_CREDIT  AMT_ANNUITY  ...  \\\n",
       "SK_ID_CURR                                                            ...   \n",
       "100002           0.045086          0.001508    0.090287     0.090032  ...   \n",
       "100003           0.043648          0.002085    0.311736     0.132924  ...   \n",
       "100004           0.046161          0.000354    0.022472     0.020025  ...   \n",
       "100007           0.038820          0.000816    0.116854     0.078975  ...   \n",
       "100008           0.042604          0.000623    0.111235     0.101018  ...   \n",
       "\n",
       "            FLOORSMAX_AVG  EXT_SOURCE_3  FLOORSMAX_MEDI  FLOORSMAX_MODE  \\\n",
       "SK_ID_CURR                                                                \n",
       "100002             0.0833      0.155054          0.0833          0.0833   \n",
       "100003             0.2917           NaN          0.2917          0.2917   \n",
       "100004                NaN      0.814130             NaN             NaN   \n",
       "100007                NaN           NaN             NaN             NaN   \n",
       "100008                NaN      0.693145             NaN             NaN   \n",
       "\n",
       "                 Age  NAME_INCOME_TYPE_Working  NAME_INCOME_TYPE_Pensioner  \\\n",
       "SK_ID_CURR                                                                   \n",
       "100002      0.111337                         1                           0   \n",
       "100003      0.523713                         0                           0   \n",
       "100004      0.652495                         1                           0   \n",
       "100007      0.702518                         1                           0   \n",
       "100008      0.533650                         0                           0   \n",
       "\n",
       "            NAME_EDUCATION_TYPE_Higher education  CODE_GENDER_M  CODE_GENDER_F  \n",
       "SK_ID_CURR                                                                      \n",
       "100002                                         0              1              0  \n",
       "100003                                         1              0              1  \n",
       "100004                                         0              1              0  \n",
       "100007                                         0              1              0  \n",
       "100008                                         0              1              0  \n",
       "\n",
       "[5 rows x 21 columns]"
      ]
     },
     "execution_count": 40,
     "metadata": {},
     "output_type": "execute_result"
    }
   ],
   "source": [
    "feature_cat = feature_train.dtypes[feature_train.dtypes==np.uint8].index.tolist()\n",
    "feature_cat_df = feature_train[feature_cat]\n",
    "train_data = pd.concat([feature_after_sca_df,feature_cat_df],axis=1)\n",
    "train_data.head()"
   ]
  },
  {
   "cell_type": "markdown",
   "metadata": {},
   "source": [
    "# Impute missing values with median\n",
    "We found out \"external source 3\" has 19% missing value and it is relatively lower than others, but it is key to detect default, so we only impute its missing values with median, and we left other missing value to be handled by XGBoost and LightGBM models."
   ]
  },
  {
   "cell_type": "code",
   "execution_count": 41,
   "metadata": {},
   "outputs": [],
   "source": [
    "train_data['EXT_SOURCE_3'] = train_data['EXT_SOURCE_3'].replace(np.nan, train_data['EXT_SOURCE_3'].median())"
   ]
  },
  {
   "cell_type": "markdown",
   "metadata": {},
   "source": [
    "# Model Selection"
   ]
  },
  {
   "cell_type": "markdown",
   "metadata": {},
   "source": [
    "### We might use XGBoost and LightGBM to train the datasets because XGBoost and lightGBM treat missing values in the same way as XGBoost treats zeros in sparse matrices; it ignores the zero values and allocates them to whichever sides that reduces the loss most. "
   ]
  },
  {
   "cell_type": "markdown",
   "metadata": {},
   "source": [
    "## Model Training"
   ]
  },
  {
   "cell_type": "markdown",
   "metadata": {},
   "source": [
    "### Split train and test"
   ]
  },
  {
   "cell_type": "code",
   "execution_count": 42,
   "metadata": {},
   "outputs": [],
   "source": [
    "X_train, X_test, y_train, y_test = train_test_split(train_data, target_train, test_size = 0.3, random_state=1)"
   ]
  },
  {
   "cell_type": "markdown",
   "metadata": {},
   "source": [
    "### Add accuracy function"
   ]
  },
  {
   "cell_type": "code",
   "execution_count": 43,
   "metadata": {},
   "outputs": [],
   "source": [
    "def accuracy(model, X_test = X_test, y_test = y_test):\n",
    "    \"\"\"Use accuracy of confusion matrix to evaluate model performance\"\"\"\n",
    "    y_hat = model.predict(X_test)\n",
    "    conf_mat = confusion_matrix(y_test, y_hat)\n",
    "    print((\"Accuracy Rate is {}\".format((conf_mat[0][0]+conf_mat[1][1])/conf_mat.sum())))\n",
    "    return (conf_mat[0][0]+conf_mat[1][1])/conf_mat.sum()\n",
    "\n",
    "def balanced_accuracy(model, X_test = X_test, y_test = y_test):\n",
    "    y_hat = model.predict(X_test)\n",
    "    conf_mat = confusion_matrix(y_test, y_hat)\n",
    "    TPR = conf_mat[1][1] / (conf_mat[1][1]+conf_mat[1][0])\n",
    "    TNR = conf_mat[0][0] / (conf_mat[0][0]+conf_mat[0][1])\n",
    "    print((\"Balanced Accuracy Rate is {}\".format((TPR+TNR)/2)))\n",
    "    return (TPR+TNR)/2"
   ]
  },
  {
   "cell_type": "markdown",
   "metadata": {},
   "source": [
    "### XGBoost Model"
   ]
  },
  {
   "cell_type": "code",
   "execution_count": 44,
   "metadata": {},
   "outputs": [
    {
     "name": "stdout",
     "output_type": "stream",
     "text": [
      "Accuracy Rate is 0.9237475799410328\n"
     ]
    }
   ],
   "source": [
    "xgb = XGBClassifier(max_depth=20, learning_rate=0.1, n_estimators=100, random_state=1).fit(X_train, y_train)\n",
    "xgb_acc = accuracy(xgb)"
   ]
  },
  {
   "cell_type": "code",
   "execution_count": 45,
   "metadata": {},
   "outputs": [
    {
     "name": "stdout",
     "output_type": "stream",
     "text": [
      "Balanced Accuracy Rate is 0.512815538720357\n"
     ]
    }
   ],
   "source": [
    "xgb_bala = balanced_accuracy(xgb)"
   ]
  },
  {
   "cell_type": "markdown",
   "metadata": {},
   "source": [
    "### LightGBM Model"
   ]
  },
  {
   "cell_type": "code",
   "execution_count": 46,
   "metadata": {},
   "outputs": [
    {
     "name": "stdout",
     "output_type": "stream",
     "text": [
      "Accuracy Rate is 0.9240892353246359\n"
     ]
    }
   ],
   "source": [
    "lgbm = LGBMClassifier(max_depth=20, learning_rate=0.1, n_estimators=100, random_state=1).fit(X_train, y_train)\n",
    "lgbm_acc = accuracy(lgbm)"
   ]
  },
  {
   "cell_type": "code",
   "execution_count": 47,
   "metadata": {},
   "outputs": [
    {
     "name": "stdout",
     "output_type": "stream",
     "text": [
      "Balanced Accuracy Rate is 0.5058303707941016\n",
      "Balanced Accuracy Rate is 0.7747440748098751\n"
     ]
    }
   ],
   "source": [
    "lgbm_bala = balanced_accuracy(lgbm)"
   ]
  },
  {
   "cell_type": "markdown",
   "metadata": {},
   "source": [
    "There is a significant gap between accuracy rate and balanced accuracy rate, so it is crucial to use balanced \n",
    "datasets to train the model."
   ]
  },
  {
   "cell_type": "markdown",
   "metadata": {},
   "source": [
    "### Since we have imbalance datasets, we use undersampled technique to balance target to 50 and 50"
   ]
  },
  {
   "cell_type": "code",
   "execution_count": 48,
   "metadata": {},
   "outputs": [
    {
     "data": {
      "text/plain": [
       "1    14392\n",
       "0    14392\n",
       "Name: TARGET, dtype: int64"
      ]
     },
     "execution_count": 48,
     "metadata": {},
     "output_type": "execute_result"
    }
   ],
   "source": [
    "X = pd.concat([X_train, y_train], axis=1)\n",
    "default_1 = X[X.TARGET==1]\n",
    "non_default_0 = X[X.TARGET==0]\n",
    "non_default_under = resample(non_default_0,\n",
    "        replace=False,\n",
    "        n_samples = len(default_1),\n",
    "        random_state = 1)\n",
    "downsampled = pd.concat([non_default_under,default_1])\n",
    "downsampled.TARGET.value_counts()"
   ]
  },
  {
   "cell_type": "markdown",
   "metadata": {},
   "source": [
    "#### We use balanced data to train the XGBoost and LightGBM model again."
   ]
  },
  {
   "cell_type": "code",
   "execution_count": 49,
   "metadata": {},
   "outputs": [
    {
     "data": {
      "text/plain": [
       "(28784, 21)"
      ]
     },
     "execution_count": 49,
     "metadata": {},
     "output_type": "execute_result"
    }
   ],
   "source": [
    "dn_ytrain = downsampled.TARGET\n",
    "dn_xtrain = downsampled.drop('TARGET',axis=1)\n",
    "dn_xtrain.shape"
   ]
  },
  {
   "cell_type": "code",
   "execution_count": 50,
   "metadata": {},
   "outputs": [
    {
     "name": "stdout",
     "output_type": "stream",
     "text": [
      "Accuracy Rate is 0.8747440748098751\n"
     ]
    }
   ],
   "source": [
    "xgb_dn = XGBClassifier(max_depth=20, \n",
    "                       learning_rate=0.1, \n",
    "                       n_estimators=100, \n",
    "                       random_state=1).fit(dn_xtrain,dn_ytrain)"
   ]
  },
  {
   "cell_type": "code",
   "execution_count": 61,
   "metadata": {},
   "outputs": [
    {
     "name": "stdout",
     "output_type": "stream",
     "text": [
      "Accuracy Rate is 0.689612410948157\n"
     ]
    }
   ],
   "source": [
    "xgb_acc = accuracy(xgb_dn)"
   ]
  },
  {
   "cell_type": "code",
   "execution_count": 64,
   "metadata": {},
   "outputs": [],
   "source": [
    "lgbm_dn = LGBMClassifier(learning_rate=0.1,\n",
    "                        num_leaves = 10,\n",
    "                         n_estimators=20,\n",
    "                        objective='binary',\n",
    "                        reg_alpha=0.1,\n",
    "                        reg_lambda=0.1,\n",
    "                        random_state=50).fit(dn_xtrain,dn_ytrain)"
   ]
  },
  {
   "cell_type": "code",
   "execution_count": 65,
   "metadata": {},
   "outputs": [
    {
     "name": "stdout",
     "output_type": "stream",
     "text": [
      "Accuracy Rate is 0.6812102192921407\n"
     ]
    }
   ],
   "source": [
    "lgbm_acc = accuracy(lgbm_dn)"
   ]
  },
  {
   "cell_type": "markdown",
   "metadata": {},
   "source": [
    "# Hyperparameter Tuninig\n",
    "We use k-fold cross validation to tune our hyperparameters."
   ]
  },
  {
   "cell_type": "markdown",
   "metadata": {},
   "source": [
    "### XGBoost with k-fold cross validation"
   ]
  },
  {
   "cell_type": "code",
   "execution_count": 52,
   "metadata": {},
   "outputs": [
    {
     "data": {
      "text/plain": [
       "GridSearchCV(cv=StratifiedKFold(n_splits=10, random_state=1, shuffle=True),\n",
       "             error_score='raise-deprecating',\n",
       "             estimator=XGBClassifier(base_score=0.5, booster='gbtree',\n",
       "                                     colsample_bylevel=1, colsample_bynode=1,\n",
       "                                     colsample_bytree=1, gamma=0,\n",
       "                                     learning_rate=0.1, max_delta_step=0,\n",
       "                                     max_depth=3, min_child_weight=1,\n",
       "                                     missing=None, n_estimators=100, n_jobs=1,\n",
       "                                     nthread=None, objec...,\n",
       "                                     random_state=0, reg_alpha=0, reg_lambda=1,\n",
       "                                     scale_pos_weight=1, seed=None, silent=None,\n",
       "                                     subsample=1, verbosity=1),\n",
       "             iid=False, n_jobs=4,\n",
       "             param_grid={'learning_rate': array([0.05, 0.1 ]),\n",
       "                         'max_depth': range(3, 10, 2),\n",
       "                         'min_child_weight': range(1, 6, 2),\n",
       "                         'n_estimators': range(20, 80, 10)},\n",
       "             pre_dispatch='2*n_jobs', refit=True, return_train_score=False,\n",
       "             scoring='roc_auc', verbose=0)"
      ]
     },
     "execution_count": 52,
     "metadata": {},
     "output_type": "execute_result"
    }
   ],
   "source": [
    "param_test1 = {'learning_rate':np.linspace(0.05,0.1,2),\n",
    "               'max_depth':range(3,10,2),\n",
    "               'min_child_weight':range(1,6,2),\n",
    "               'n_estimators': range(20,80,10)\n",
    "}\n",
    "\n",
    "model = XGBClassifier()\n",
    "kfold = StratifiedKFold(n_splits=10, shuffle=True, random_state=1)\n",
    "gsearch1 = GridSearchCV(estimator = model, \n",
    "                        param_grid = param_test1, scoring='roc_auc',\n",
    "                        n_jobs=4,iid=False, cv=kfold)\n",
    "\n",
    "gsearch1.fit(dn_xtrain, dn_ytrain)"
   ]
  },
  {
   "cell_type": "code",
   "execution_count": 53,
   "metadata": {},
   "outputs": [
    {
     "data": {
      "text/plain": [
       "({'learning_rate': 0.1,\n",
       "  'max_depth': 5,\n",
       "  'min_child_weight': 1,\n",
       "  'n_estimators': 70},\n",
       " 0.7500650203297496)"
      ]
     },
     "execution_count": 53,
     "metadata": {},
     "output_type": "execute_result"
    }
   ],
   "source": [
    "gsearch1.best_params_, gsearch1.best_score_"
   ]
  },
  {
   "cell_type": "code",
   "execution_count": 54,
   "metadata": {},
   "outputs": [
    {
     "name": "stdout",
     "output_type": "stream",
     "text": [
      "Accuracy Rate is 0.689612410948157\n",
      "Balanced Accuracy Rate is 0.682517196526389\n"
     ]
    }
   ],
   "source": [
    "xgb_dn = XGBClassifier(max_depth=5, \n",
    "                       learning_rate=0.1, \n",
    "                       n_estimators=70, \n",
    "                       min_child_weight=3,\n",
    "                       random_state=1).fit(dn_xtrain,dn_ytrain)\n",
    "xgb_acc = accuracy(xgb_dn)"
   ]
  },
  {
   "cell_type": "markdown",
   "metadata": {},
   "source": [
    "### LightGBM with k-fold cross validation"
   ]
  },
  {
   "cell_type": "code",
   "execution_count": 55,
   "metadata": {},
   "outputs": [
    {
     "name": "stdout",
     "output_type": "stream",
     "text": [
      "Fitting 10 folds for each of 576 candidates, totalling 5760 fits\n"
     ]
    },
    {
     "name": "stderr",
     "output_type": "stream",
     "text": [
      "[Parallel(n_jobs=-1)]: Using backend LokyBackend with 6 concurrent workers.\n",
      "[Parallel(n_jobs=-1)]: Done  29 tasks      | elapsed:    1.6s\n",
      "[Parallel(n_jobs=-1)]: Done 150 tasks      | elapsed:    4.8s\n",
      "[Parallel(n_jobs=-1)]: Done 353 tasks      | elapsed:   10.4s\n",
      "[Parallel(n_jobs=-1)]: Done 636 tasks      | elapsed:   18.2s\n",
      "[Parallel(n_jobs=-1)]: Done 1001 tasks      | elapsed:   29.5s\n",
      "[Parallel(n_jobs=-1)]: Done 1446 tasks      | elapsed:   44.8s\n",
      "[Parallel(n_jobs=-1)]: Done 1973 tasks      | elapsed:  1.1min\n",
      "[Parallel(n_jobs=-1)]: Done 2580 tasks      | elapsed:  1.5min\n",
      "[Parallel(n_jobs=-1)]: Done 3269 tasks      | elapsed:  1.9min\n",
      "[Parallel(n_jobs=-1)]: Done 4038 tasks      | elapsed:  2.3min\n",
      "[Parallel(n_jobs=-1)]: Done 4889 tasks      | elapsed:  2.9min\n",
      "[Parallel(n_jobs=-1)]: Done 5760 out of 5760 | elapsed:  3.5min finished\n"
     ]
    },
    {
     "data": {
      "text/plain": [
       "GridSearchCV(cv=StratifiedKFold(n_splits=10, random_state=1, shuffle=True),\n",
       "             error_score='raise-deprecating',\n",
       "             estimator=LGBMClassifier(boosting_type='gbdt', class_weight=None,\n",
       "                                      colsample_bytree=1.0,\n",
       "                                      importance_type='split',\n",
       "                                      learning_rate=0.1, max_depth=-1,\n",
       "                                      min_child_samples=20,\n",
       "                                      min_child_weight=0.001,\n",
       "                                      min_split_gain=0.0, n_estimators=100,\n",
       "                                      n_jobs=-1, num_leaves=31, o...\n",
       "             iid='warn', n_jobs=-1,\n",
       "             param_grid={'boosting_type': ['gbdt'],\n",
       "                         'colsample_bytree': [0.65, 0.66],\n",
       "                         'learning_rate': [0.1],\n",
       "                         'n_estimators': range(20, 80, 10),\n",
       "                         'num_leaves': [6, 8, 12, 16], 'objective': ['binary'],\n",
       "                         'random_state': [501], 'reg_alpha': [1, 1.2],\n",
       "                         'reg_lambda': [1, 1.2, 1.4],\n",
       "                         'subsample': [0.7, 0.75]},\n",
       "             pre_dispatch='2*n_jobs', refit='AUC', return_train_score=False,\n",
       "             scoring='roc_auc', verbose=2)"
      ]
     },
     "execution_count": 55,
     "metadata": {},
     "output_type": "execute_result"
    }
   ],
   "source": [
    "gridParams = {\n",
    "    'learning_rate': [0.1],\n",
    "    'n_estimators': range(20,80,10),\n",
    "    'num_leaves': [6,8,12,16],\n",
    "    'boosting_type' : ['gbdt'],\n",
    "    'objective' : ['binary'],\n",
    "    'random_state':[501],\n",
    "    'colsample_bytree':[0.65,0.66],\n",
    "    'subsample':[0.7,0.75],\n",
    "    'reg_alpha':[1,1.2],\n",
    "    'reg_lambda':[1,1.2,1.4]\n",
    "}\n",
    "\n",
    "mdl = LGBMClassifier()\n",
    "\n",
    "grid = GridSearchCV(mdl, gridParams, verbose=2, cv=kfold, scoring='roc_auc', n_jobs=-1, refit='AUC')\n",
    "\n",
    "grid.fit(dn_xtrain, dn_ytrain)"
   ]
  },
  {
   "cell_type": "code",
   "execution_count": 56,
   "metadata": {},
   "outputs": [
    {
     "data": {
      "text/plain": [
       "{'boosting_type': 'gbdt',\n",
       " 'colsample_bytree': 0.65,\n",
       " 'learning_rate': 0.1,\n",
       " 'n_estimators': 70,\n",
       " 'num_leaves': 16,\n",
       " 'objective': 'binary',\n",
       " 'random_state': 501,\n",
       " 'reg_alpha': 1.2,\n",
       " 'reg_lambda': 1.2,\n",
       " 'subsample': 0.7}"
      ]
     },
     "execution_count": 56,
     "metadata": {},
     "output_type": "execute_result"
    }
   ],
   "source": [
    "grid.best_params_"
   ]
  },
  {
   "cell_type": "code",
   "execution_count": 57,
   "metadata": {},
   "outputs": [
    {
     "name": "stdout",
     "output_type": "stream",
     "text": [
      "Accuracy Rate is 0.69242157743556\n"
     ]
    }
   ],
   "source": [
    "lgbm_dn = LGBMClassifier(boosting_type ='gbdt', \n",
    "                         colsample_bytree = 0.65,\n",
    "                         learning_rate = 0.1,\n",
    "                         n_estimators =  70,\n",
    "                         num_leaves = 16,\n",
    "                         objective='binary',\n",
    "                         random_state = 501,\n",
    "                         reg_alpha =  1.2,\n",
    "                         reg_lambda =  1.4,\n",
    "                         subsample = 0.7).fit(dn_xtrain,dn_ytrain)\n",
    "lgbm_acc = accuracy(lgbm_dn)"
   ]
  },
  {
   "cell_type": "markdown",
   "metadata": {},
   "source": [
    "## After tuning hyperparameters, the accuracy improved."
   ]
  },
  {
   "cell_type": "code",
   "execution_count": 58,
   "metadata": {},
   "outputs": [],
   "source": [
    "test_data = pd.read_csv('test_data.csv',index_col=0)"
   ]
  },
  {
   "cell_type": "markdown",
   "metadata": {},
   "source": [
    "we treat the test datasets in the same way as treating train datasets to make predictions. "
   ]
  },
  {
   "cell_type": "code",
   "execution_count": 59,
   "metadata": {},
   "outputs": [],
   "source": [
    "results1 = pd.DataFrame(xgb_dn.predict(test_data))"
   ]
  },
  {
   "cell_type": "code",
   "execution_count": 66,
   "metadata": {},
   "outputs": [],
   "source": [
    "results1.to_csv('prediction3.csv')"
   ]
  }
 ],
 "metadata": {
  "kernelspec": {
   "display_name": "Python 3",
   "language": "python",
   "name": "python3"
  },
  "language_info": {
   "codemirror_mode": {
    "name": "ipython",
    "version": 3
   },
   "file_extension": ".py",
   "mimetype": "text/x-python",
   "name": "python",
   "nbconvert_exporter": "python",
   "pygments_lexer": "ipython3",
   "version": "3.7.3"
  }
 },
 "nbformat": 4,
 "nbformat_minor": 2
}
